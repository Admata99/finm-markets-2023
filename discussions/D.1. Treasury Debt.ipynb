{
 "cells": [
  {
   "cell_type": "markdown",
   "id": "bcd012d4",
   "metadata": {},
   "source": [
    "# D.1. Treasury Debt\n",
    "\n",
    "## Markets Foundations\n",
    "\n",
    "### UChicago Financial Mathematics\n",
    "\n",
    "#### September 2023\n",
    "\n",
    "* Mark Hendricks\n",
    "* hendricks@uchicago.edu"
   ]
  },
  {
   "cell_type": "code",
   "execution_count": null,
   "id": "14b14a3d",
   "metadata": {},
   "outputs": [],
   "source": [
    "import pandas as pd\n",
    "import numpy as np\n",
    "import datetime\n",
    "import warnings\n",
    "\n",
    "from sklearn.linear_model import LinearRegression\n",
    "from scipy.optimize import minimize\n",
    "\n",
    "import matplotlib.pyplot as plt\n",
    "%matplotlib inline\n",
    "plt.rcParams['figure.figsize'] = (12,6)\n",
    "plt.rcParams['font.size'] = 15\n",
    "plt.rcParams['legend.fontsize'] = 13\n",
    "\n",
    "import sys\n",
    "sys.path.insert(0, '../cmds')\n",
    "from treasury_cmds import *"
   ]
  },
  {
   "cell_type": "markdown",
   "id": "bfb3bdeb",
   "metadata": {},
   "source": [
    "## Data Source\n",
    "\n",
    "CRSP Treasury Monthly Release\n",
    "accessed via WRDS\n",
    "\n",
    "For any given date, obtain quotes for nearly every issued Treasury.\n",
    "\n",
    "In particular, \n",
    "* Bills, Notes, Bonds\n",
    "* TIPS\n",
    "\n",
    "In the analysis below, we exclude TIPS to focus on nominal rates.\n",
    "\n",
    "The data set does not include Floating Rate Notes (FRNs)."
   ]
  },
  {
   "cell_type": "code",
   "execution_count": null,
   "id": "e8e9e628",
   "metadata": {},
   "outputs": [],
   "source": [
    "QUOTE_DATE = '2023-06-30'\n",
    "\n",
    "filepath_rawdata = f'../data/treasury_quotes_{QUOTE_DATE}.xlsx'\n",
    "rawdata = pd.read_excel(filepath_rawdata,sheet_name='quotes')\n",
    "rawdata.columns = rawdata.columns.str.upper()\n",
    "rawdata.sort_values('TMATDT',inplace=True)\n",
    "rawdata.set_index('KYTREASNO',inplace=True)"
   ]
  },
  {
   "cell_type": "code",
   "execution_count": null,
   "id": "d81cdb5f",
   "metadata": {},
   "outputs": [],
   "source": [
    "t_check = rawdata['CALDT'].values[0]\n",
    "if rawdata['CALDT'].eq(t_check).all():\n",
    "    t_current = t_check\n",
    "else:\n",
    "    warnings.warn('Quotes are from multiple dates.')\n",
    "    t_current = None"
   ]
  },
  {
   "cell_type": "code",
   "execution_count": null,
   "id": "566e46f3",
   "metadata": {},
   "outputs": [],
   "source": [
    "f'Analysis based on quotes from: {pd.to_datetime(t_current):%Y-%m-%d}'"
   ]
  },
  {
   "cell_type": "code",
   "execution_count": null,
   "id": "6322dabb",
   "metadata": {},
   "outputs": [],
   "source": [
    "metrics = rawdata.copy()[['TDATDT','TMATDT','TCOUPRT','TDYLD','TDDURATN','TDPUBOUT']]\n",
    "metrics.columns = ['issue date','maturity date','coupon rate','ytm','duration','outstanding']\n",
    "metrics['ytm'] *= 365\n",
    "metrics['duration'] /= 365\n",
    "metrics['outstanding'] *= 1e6\n",
    "metrics['maturity'] = get_maturity_delta(metrics['maturity date'], t_current)\n",
    "metrics['price'] = (rawdata['TDBID'] + rawdata['TDASK'])/2 + rawdata['TDACCINT']\n",
    "metrics['ask-bid'] = rawdata['TDASK'] - rawdata['TDBID']\n",
    "metrics['next cashflow date'] = (calc_cashflows(rawdata) != 0).idxmax(1)\n",
    "metrics = metrics[['issue date','maturity date','maturity','coupon rate','next cashflow date','price','ytm','ask-bid']]"
   ]
  },
  {
   "cell_type": "code",
   "execution_count": null,
   "id": "bca83829",
   "metadata": {},
   "outputs": [],
   "source": [
    "metrics"
   ]
  },
  {
   "cell_type": "markdown",
   "id": "ac8b56dc",
   "metadata": {},
   "source": [
    "## Basics of Treasuries\n",
    "\n",
    "## Timing\n",
    "\n",
    "These quotes are at a single point in time.\n",
    "\n",
    "But they describe bonds covering a wide range of \n",
    "* issuance dates\n",
    "* maturity dates"
   ]
  },
  {
   "cell_type": "code",
   "execution_count": null,
   "id": "2d570007",
   "metadata": {},
   "outputs": [],
   "source": [
    "metrics.hist('issue date',bins=20)\n",
    "metrics.hist('maturity date',bins=20)\n",
    "plt.show()"
   ]
  },
  {
   "cell_type": "markdown",
   "id": "59c86834",
   "metadata": {},
   "source": [
    "## Coupon Rates\n",
    "\n",
    "The quoted coupon is the annualized rate (per $100 face value).\n",
    "\n",
    "It is paid semiannually.\n",
    "\n",
    "The coupon rate is a feature set by the issuer (Treasury) at the time it is issued.\n",
    "* These rates have varied widely over time.\n",
    "* The Treasury sets coupons near the prevailing interest rate, (i.e., priced near par.)\n",
    "\n",
    "In the figure below, note that coupon rates have declined over time."
   ]
  },
  {
   "cell_type": "code",
   "execution_count": null,
   "id": "75ee562b",
   "metadata": {},
   "outputs": [],
   "source": [
    "metrics.plot.scatter(x='issue date',y='coupon rate',title='Coupon Rates by Issue Date')\n",
    "metrics.plot.scatter(x='maturity date',y='coupon rate',title='Coupon Rates by Maturity Date')\n",
    "plt.show()"
   ]
  },
  {
   "cell_type": "markdown",
   "id": "198b5116",
   "metadata": {},
   "source": [
    "## Issue Types\n",
    "\n",
    "|         | Maturity            | Coupon   | Coupon Frequency | Principal          |\n",
    "|---------|---------------------|----------|------------------|--------------------|\n",
    "| T-bills | 4, 8, 13, 26, 52 weeks | None     | None             | Fixed              |\n",
    "| T-notes | 2, 5, 7, 10 years      | Fixed    | Semiannual       | Fixed              |\n",
    "| T-bonds | 20, 30 years            | Fixed    | Semiannual       | Fixed              |\n",
    "| TIPS    | 5, 10, 30 years     | Fixed    | Semiannual       | Inflation adjusted |\n",
    "| FRNs    | 2 years             | Floating | Quarterly        | Fixed              |\n",
    "| STRIPS  | Derived             | None     | None             | Fixed              |\n",
    "\n",
    "Reference: \n",
    "https://www.treasurydirect.gov/indiv/research/indepth/tbills/res_tbill.htm\n",
    "\n",
    "\n",
    "## Traditional Treasury Debt Securities\n",
    "\n",
    "### Bills\n",
    "* maturity $\\le$ 1 year\n",
    "* no coupon\n",
    "\n",
    "### Notes\n",
    "* 1 year $<$ maturity $\\le 10$ years\n",
    "* semiannual coupon\n",
    "\n",
    "### Bonds\n",
    "* maturity $> 10$ years\n",
    "* semiannual coupon"
   ]
  },
  {
   "cell_type": "markdown",
   "id": "c9226557",
   "metadata": {},
   "source": [
    "## Other Instruments\n",
    "\n",
    "### TIPS\n",
    "\n",
    "**Treasury Inflation Protected Securities** (TIPS)\n",
    "- Treasury notes and bonds (no bills)\n",
    "- Semiannual coupon\n",
    "- Issued since 1997\n",
    "\n",
    "**Inflation protection**\n",
    "\n",
    "TIPS provide a hedge against inflation.\n",
    "- Face value is scaled by CPI\n",
    "- Coupon rate is fixed\n",
    "- Fixed coupon rate multiplies the (CPI-adjusted) face-value, which leads to an inflation-adjusted coupon"
   ]
  },
  {
   "cell_type": "markdown",
   "id": "ef03e0f9",
   "metadata": {},
   "source": [
    "### Floating Rate Notes (FRN)\n",
    "* maturity of 2-years\n",
    "* floating coupon\n",
    "* quarterly payment\n",
    "\n",
    "Discussed in more depth later.\n",
    "\n",
    "### STRIPS\n",
    "\n",
    "STRIPS are registered securities created by \"stripping\" the coupons and principal from an issued Treasury.\n",
    "\n",
    "This allows investors to trade **zero coupon** bonds with maturities beyond 1 year.\n",
    "\n",
    "https://fiscaldata.treasury.gov/datasets/monthly-statement-public-debt/holdings-of-treasury-securities-in-stripped-form"
   ]
  },
  {
   "cell_type": "markdown",
   "id": "6dec7cd8",
   "metadata": {},
   "source": [
    "## Composition\n",
    "\n",
    "<img src='../refs/a2/treasury_debt_composition_MSPD_2023.png'>\n",
    "\n",
    "Reference: https://fiscaldata.treasury.gov/datasets/monthly-statement-public-debt/summary-of-treasury-securities-outstanding"
   ]
  },
  {
   "cell_type": "markdown",
   "id": "37236497",
   "metadata": {},
   "source": [
    "## Dealers\n",
    "\n",
    "Treasuries are bought by auction or in secondary markets.\n",
    "* Primary dealers buy most new issues at auction and sell them all over the world.\n",
    "* The New York Fed publishes a list of these dealers, along with a “Weekly Release of Primary Dealer Transactions”.\n",
    "* Include Citigroup, Deutsche Bank, Morgan Stanley, Nomura, UBS.\n",
    "* Recent additions or removals?"
   ]
  },
  {
   "cell_type": "markdown",
   "id": "6a978ce6",
   "metadata": {},
   "source": [
    "## Pricing\n",
    "\n",
    "Price is quoted per $100 face value\n",
    "\n",
    "### Par\n",
    "A bond trading above face value is said to trade above par\n",
    "#### Bonds with coupons larger than current interest rates will trade above par.\n",
    "* Trade above par: coupons are large enough to more than offset the present value discount.\n",
    "\n",
    "\n",
    "### Pricing function\n",
    "The only features of an issue impacting price would be\n",
    "* remaining maturity: $T-t$\n",
    "* coupon rate\n",
    "\n",
    "In a **frictionless market**, the \n",
    "* issue date would be irrelevant to the price.\n",
    "* fresh 5-year note and 10-year note issued 5 years ago would have same price if same coupon rate.\n",
    "\n",
    "But there are frictions and liquidity issues\n",
    "* **on-the-run** bonds are the fresh (recent) issue and tend to have more liquidity and thus higher price.\n",
    "\n",
    "### Bid-Ask Spread\n",
    "The data set quotes a `bid` and `ask`.\n",
    "* **Bid** is the price offered by a potential buyer\n",
    "* **Ask** is the price offered by a potential seller\n",
    "* For most issues, these are very close."
   ]
  },
  {
   "cell_type": "code",
   "execution_count": null,
   "id": "a13a7e3e",
   "metadata": {},
   "outputs": [],
   "source": [
    "display(metrics.sort_values('ask-bid').head(5))\n",
    "display(metrics[['ask-bid']].describe().T.style.format(\"{:.2f}\"))"
   ]
  },
  {
   "cell_type": "markdown",
   "id": "d54a993d",
   "metadata": {},
   "source": [
    "## On-the-run\n",
    "\n",
    "Suppose you are interested in investing in a treasury with 5 years until maturity.\n",
    "\n",
    "Consider two alternatives:\n",
    "* buy a newly issued 5-year note\n",
    "* buy a 10-year note that was issued 5 years ago\n",
    "\n",
    "The newly issued note is **on-the-run**.\n",
    "\n",
    "A treasury which has aged is **off-the-run**.\n",
    "\n",
    "This is an important consideration in liquidity.\n",
    "* financial intermediaries have substantial business in selling the on-the-run while hedging with the off-the-run.\n",
    "* in some sense, this is trading on liquidity."
   ]
  },
  {
   "cell_type": "code",
   "execution_count": null,
   "id": "838775cf",
   "metadata": {},
   "outputs": [],
   "source": [
    "t_current = pd.to_datetime(QUOTE_DATE)\n",
    "mats = get_maturity_delta(rawdata[['TMATDT']].astype('datetime64[ns]'), t_current=t_current)\n",
    "\n",
    "metrics[mats['TMATDT'].between(4.9,5.1)].head(5).dropna()"
   ]
  },
  {
   "cell_type": "markdown",
   "id": "1994a5d5",
   "metadata": {},
   "source": [
    "## Quoting Conventions \n",
    "\n",
    "Bonds differ in maturity and coupons, so looking at their relative prices is an apple-to-oranges comparison.\n",
    "\n",
    "**Yields** are a form of price quote that accounts for the maturity and coupon.\n",
    "\n",
    "### YTM \n",
    "\n",
    "The YTM discussed above is the most important yield. \n",
    "* It is used in **quoting** and **analyzing** bonds.\n",
    "* The YTM is not necessarily a sufficient statistics for all dimensions of a bond--price, coupon, maturity. Thus, two with equivalent YTM may have important differences."
   ]
  },
  {
   "cell_type": "markdown",
   "id": "14ac22e1",
   "metadata": {},
   "source": [
    "### Discount yield\n",
    "The discount yield is important for quoting money-market prices.\n",
    "* it is not popular for analyzing and research\n",
    "* it is perhaps vestigial to a time when traders needed to calculate by hand and calculator\n",
    "\n",
    "**Treasury bills** are typically quoted as discount yields.\n",
    "\n",
    "Consider\n",
    "* price of $P$\n",
    "* face value of 100\n",
    "* no coupon\n",
    "\n",
    "Then,\n",
    "$$\\text{discount yield} = \\left(\\frac{360}{n}\\right)\\frac{100-P}{100}$$\n",
    "\n",
    "#### Example\n",
    "\n",
    "A T-bill maturing in 90 days with cash price of $P=99$ will have discount yield of \n",
    "$$Y_{\\text{discount}} = 4\\%$$\n",
    "\n",
    "Note that it will be common to go the other way around: read quotes for 90-day T-bills of 4\\% (or simply, \"4\") and understand that as an actual price of 99.\n",
    "\n",
    "\n",
    "<img src='../refs/a2/treasury_quotes_bills.png'>\n",
    "\n",
    "Reference: Bloomberg `B Govt`"
   ]
  },
  {
   "cell_type": "markdown",
   "id": "2d59306e",
   "metadata": {},
   "source": [
    "## Price Quotes\n",
    "\n",
    "T-notes and T-bonds are quoted in thirty-seconds (1/32) of a dollar rather than hundredths of a dollar.\n",
    "\n",
    "<img src='../refs/a2/treasury_quotes_bonds_notes.png'>\n",
    "\n",
    "Reference: Bloomberg `T Govt`"
   ]
  },
  {
   "cell_type": "markdown",
   "id": "3eaf57df",
   "metadata": {},
   "source": [
    "## Accrued Interest\n",
    "\n",
    "Accrued interest is proportional to the coupon rate, based on the number of days since the last coupon (or, until the next coupon.)"
   ]
  },
  {
   "cell_type": "code",
   "execution_count": null,
   "id": "986a4903",
   "metadata": {},
   "outputs": [],
   "source": [
    "rawdata[['TDACCINT']].plot.hist(title='Accrued Interest',xlabel='accrued interest',ylabel='count');"
   ]
  },
  {
   "cell_type": "markdown",
   "id": "a4a39dcf",
   "metadata": {},
   "source": [
    "### Day-Count Conventions\n",
    "\n",
    "The accrued interest is computed with a day-count convention\n",
    "\n",
    "$$\\text{accrued interest} = \\frac{\\text{days counted}}{\\text{days in reference period}} \\times \\text{interest in reference period}$$\n",
    "\n",
    "Common day-count conventions include:\n",
    "* actual/actual: treasury notes and bonds\n",
    "* 30/360: corporate and municipal bonds\n",
    "* actual/360: money-market instruments (issued with 1yr or less, little credit risk)\n",
    "\n",
    "Careful, or can lead to seeming arbitrage that doesn't exist.\n",
    "* Hull's Business Snapshot 6.1 mentions case of T-bond vs Corp and former getting 1 day of accrual Feb 28 to Mar 1, while latter gets 3 days of accrual.\n",
    "\n",
    "We will not focus on the taxonomy of day-count conventions in discussions below.\n",
    "* important to know what it is\n",
    "* look it up when necessary"
   ]
  },
  {
   "cell_type": "markdown",
   "id": "c40b1e8c",
   "metadata": {},
   "source": [
    "## Yield to Maturity (YTM) and Returns\n",
    "\n",
    "The formula for YTM looks like the pricing formula for a bond, but replacing the maturity-dependent discount rate with a constant discount rate:\n",
    "\n",
    "### Definition\n",
    "\n",
    "Let $P_j(t,T,c)$ denote the price of \n",
    "- bond $j$ \n",
    "- observed time-$t$ \n",
    "- which matures at time $T$ \n",
    "- with coupons occuring at interim cashflow dates $T_i$ for $1\\le i <n$\n",
    "- and a final coupon and principal payment occuring at maturity $T$.\n",
    "\n",
    "Define the **yield-to-maturity** for bond $j$ as the term $y_j$ which satisfies the following equation:\n",
    "\n",
    "$\\begin{align*}\n",
    "P_j(t,T,c) = \\sum_{i=1}^{n-1}\\frac{100\\left(\\frac{c}{2}\\right)}{\\left(1+\\frac{y_j}{2}\\right)^{2(T_i-t)}} + \\frac{100\\left(1+\\frac{c}{2}\\right)}{\\left(1+\\frac{y_j}{2}\\right)^{2(T-t)}}\n",
    "\\end{align*}\n",
    "$\n",
    "\n",
    "Note that the same rate, $y_j$, is discounting cashflows at different maturities.\n",
    "* It is unique to the security, $j$.\n",
    "* It is constant across the security's various cashflow maturities.\n",
    "\n",
    "### YTM has a <span style='color:blue'>nonlinear</span> and <span style='color:blue'>inverse</span> relationship with price\n"
   ]
  },
  {
   "cell_type": "code",
   "execution_count": null,
   "id": "a11ed7d9",
   "metadata": {},
   "outputs": [],
   "source": [
    "ylds_grid = np.arange(0,.12,.001)\n",
    "T_grid = [1,10,30]\n",
    "price_grid = pd.DataFrame(data=np.zeros([len(ylds_grid),len(T_grid)]), index=ylds_grid, columns=T_grid)\n",
    "for T in T_grid:\n",
    "    for i,y in enumerate(ylds_grid):\n",
    "        price_grid.loc[y,T] = 100/(1+y/2)**(2*T)\n",
    "\n",
    "price_grid.plot(figsize=(10,8))\n",
    "\n",
    "legend_labels = [''] * len(T_grid)\n",
    "for i,T in enumerate(T_grid):\n",
    "    legend_labels[i] = f'{T}-year zero-coupon bond'\n",
    "\n",
    "plt.xlabel('yield-to-maturity')\n",
    "plt.ylabel('price')\n",
    "plt.legend(legend_labels)\n",
    "plt.title('Relationship between YTM and Price')\n",
    "plt.show()"
   ]
  },
  {
   "cell_type": "markdown",
   "id": "3957a034",
   "metadata": {},
   "source": [
    "## Returns\n",
    "\n",
    "The return on a bond between $t$ and $T$ is, like any security, the (time $T$) payoff divided by the (time $t$) price.\n",
    "\n",
    "#### Notation\n",
    "Let $\\hat{r}_{t,T}$ denote the **annualized** return between $t$ and $T$. We use the hat, $\\hat{r}$ to avoid confusion with the interest rate notation, $r(t,T)$.\n",
    "\n",
    "$\n",
    "\\begin{align}\n",
    "\\hat{r}_{t,T} = \\left(\\frac{\\text{payoff}_T}{\\text{investment}_t}\\right)^{\\frac{1}{T-t}} - 1\n",
    "\\end{align}\n",
    "$\n",
    "\n",
    "Note that the exponent $1/(T-t)$ is to annualize the return.\n",
    "\n",
    "### Conditions where return equals YTM\n",
    "**The return to a bond is typically NOT the same as its YTM**\n",
    "\n",
    "They are only equivalent if...\n",
    "1. We are discussing a zero-coupon bond. (ie It only pays cashflow at maturity.)\n",
    "2. The investor holds it until maturity."
   ]
  },
  {
   "cell_type": "markdown",
   "id": "d203bb57",
   "metadata": {},
   "source": [
    "## YTM vs Return for a Coupon Bond\n",
    "\n",
    "For a coupon bond, YTM is not the same as return, whether or not the bond is held to maturity.\n",
    "\n",
    "### YTM is the exact same as Internal Rate of Return in Corporate Finance\n",
    "\n",
    "* YTM is a discount rate that varies by instrument but is constant across the instrument's cashflow.\n",
    "\n",
    "* It is NOT the return, as there is no guarantee you can reinvest intermediate cashflows at the YTM.\n",
    "\n",
    "* YTM only exists and is uniquely defined for cashflows that have the typical pattern.\n",
    "\n",
    "### YTM is just an alternate way to quote a price\n",
    "\n",
    "* Prices for coupon bonds have a wide range due to coupons and maturity.\n",
    "* YTM is a narrower range which (partially) adjusts for the time-value of money"
   ]
  },
  {
   "cell_type": "markdown",
   "id": "8d441b6d",
   "metadata": {},
   "source": [
    "### Par\n",
    "A bond trading above face value is said to trade above par\n",
    "#### Bonds with coupons larger than current interest rates will trade above par.\n",
    "* Trade above par: coupons are large enough to more than offset the present value discount."
   ]
  },
  {
   "cell_type": "markdown",
   "id": "10dae3d0",
   "metadata": {},
   "source": [
    "## TIPS\n",
    "\n",
    "**Treasury Inflation Protected Securities** (TIPS)\n",
    "- Treasury notes and bonds (no bills)\n",
    "- Semiannual coupon\n",
    "- Issued since 1997\n",
    "\n",
    "### Inflation protection\n",
    "\n",
    "TIPS provide a hedge against inflation.\n",
    "- Face value is scaled by CPI\n",
    "- Coupon rate is fixed\n",
    "- Fixed coupon rate multiplies the (CPI-adjusted) face-value, which leads to an inflation-adjusted coupon"
   ]
  },
  {
   "cell_type": "code",
   "execution_count": null,
   "id": "6402bb96",
   "metadata": {},
   "outputs": [],
   "source": [
    "debt_outstanding = pd.DataFrame(index=['bills','notes','bonds','TIPS','FRNs'],data=[3671.2,13508.6,3725.3,1775.2,604.5],columns=['public debt (billions)'])\n",
    "debt_outstanding.plot.pie(y=debt_outstanding.columns[0],figsize=(8,8),title='Treasury Debt - Public (billions)',ylabel='May 31, 2022')\n",
    "plt.show()"
   ]
  },
  {
   "cell_type": "markdown",
   "id": "3473fc85",
   "metadata": {},
   "source": [
    "Data Source:\n",
    "\n",
    "https://fiscaldata.treasury.gov/datasets/monthly-statement-public-debt/summary-of-treasury-securities-outstanding"
   ]
  },
  {
   "cell_type": "markdown",
   "id": "8bba4cba",
   "metadata": {},
   "source": [
    "***"
   ]
  },
  {
   "cell_type": "markdown",
   "id": "8de0e4b1",
   "metadata": {},
   "source": [
    "## Market Sizes\n",
    "\n",
    "## Size of Treasury Debt Markets\n",
    "https://fred.stlouisfed.org/series/GFDEBTN\n",
    "\n",
    "### Composition of Treasury Debt\n",
    "Monthly Statement of the Public Debt\n",
    "\n",
    "https://fiscaldata.treasury.gov/datasets/monthly-statement-public-debt/summary-of-treasury-securities-outstanding\n",
    "\n",
    "STRIPS\n",
    "\n",
    "https://fiscaldata.treasury.gov/datasets/monthly-statement-public-debt/holdings-of-treasury-securities-in-stripped-form\n",
    "\n",
    "\n",
    "## Size of Fixed Income Markets\n",
    "https://www.sifma.org/resources/research/us-fixed-income-securities-statistics/\n",
    "\n",
    "\n",
    "## Size of Derivatives Markets\n",
    "https://www.isda.org/a/tBngE/Key-Trends-in-the-Size-and-Composition-of-OTC-Derivatives-Markets-in-the-First-Half-of-2021.pdf"
   ]
  },
  {
   "cell_type": "markdown",
   "id": "ef9b9a60",
   "metadata": {},
   "source": []
  }
 ],
 "metadata": {
  "language_info": {
   "name": "python"
  }
 },
 "nbformat": 4,
 "nbformat_minor": 5
}
