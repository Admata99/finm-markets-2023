{
 "cells": [
  {
   "cell_type": "markdown",
   "id": "2bba375b",
   "metadata": {},
   "source": [
    "# D.2. Money Markets\n",
    "\n",
    "## Markets Foundations\n",
    "\n",
    "### UChicago Financial Mathematics\n",
    "\n",
    "#### September 2023\n",
    "\n",
    "* Mark Hendricks\n",
    "* hendricks@uchicago.edu"
   ]
  },
  {
   "cell_type": "code",
   "execution_count": null,
   "id": "42e15c74",
   "metadata": {},
   "outputs": [],
   "source": [
    "import pandas as pd\n",
    "import numpy as np\n",
    "import datetime\n",
    "import warnings\n",
    "\n",
    "from sklearn.linear_model import LinearRegression\n",
    "from scipy.optimize import minimize\n",
    "\n",
    "import matplotlib.pyplot as plt\n",
    "%matplotlib inline\n",
    "plt.rcParams['figure.figsize'] = (12,6)\n",
    "plt.rcParams['font.size'] = 15\n",
    "plt.rcParams['legend.fontsize'] = 13\n",
    "\n",
    "import sys\n",
    "sys.path.insert(0, '../cmds')\n",
    "from treasury_cmds import *"
   ]
  },
  {
   "cell_type": "markdown",
   "id": "44396e33",
   "metadata": {
    "heading_collapsed": true
   },
   "source": [
    "# Overview of Money Markets"
   ]
  },
  {
   "cell_type": "markdown",
   "id": "b0600986",
   "metadata": {
    "hidden": true
   },
   "source": [
    "<img src='../refs/a4/money_markets_BB.png'>\n",
    "\n",
    "Reference: Bloomberg `BTMM`"
   ]
  },
  {
   "cell_type": "markdown",
   "id": "a06806bf",
   "metadata": {},
   "source": [
    "# Fed Funds Rate"
   ]
  },
  {
   "cell_type": "markdown",
   "id": "55cd0726",
   "metadata": {},
   "source": [
    "The Fed Funds rate is the rate at which private banks agree to lend each other money overnight.\n",
    "- It is a transaction between two private parties, so the rate is determined by market forces.\n",
    "- Still, the Fed has a great ability to manipulate this rate through the money supply.\n",
    "- Thus, monetary policy is typically discussed in terms of targeting the Fed Funds rate.\n",
    "- The rate gets its name because the Fed sets a reserve requirement that the banks must have in their vaults overnight. \n",
    "- Thus, the overnight lending between banks is really about having the funds mandated by the Fed."
   ]
  },
  {
   "cell_type": "code",
   "execution_count": null,
   "id": "86d5d49a",
   "metadata": {},
   "outputs": [],
   "source": [
    "# ticks = ['EFFR','DFEDTARU','DFEDTARL']\n",
    "# leg = info.loc[ticks,'description'].to_list()\n",
    "\n",
    "# data[ticks].plot(xlim=('2008',data.index[-1]),ylim=[-.05,3])\n",
    "# plt.legend(leg)\n",
    "# plt.show()\n",
    "\n",
    "# data[ticks].plot(xlim=('2020-03-01',data.index[-1]),ylim=(-.05,1.1))\n",
    "# plt.legend(leg)\n",
    "# plt.show()"
   ]
  },
  {
   "cell_type": "markdown",
   "id": "4ecb2ea2",
   "metadata": {},
   "source": [
    "## Excess Reserves"
   ]
  },
  {
   "cell_type": "code",
   "execution_count": null,
   "id": "73c228cf",
   "metadata": {},
   "outputs": [],
   "source": [
    "# ioer = data[['IOER']].dropna().rename(columns={'IOER':'reserve rate'})\n",
    "# iorb = data[['IORB']].dropna().rename(columns={'IORB':'reserve rate'})\n",
    "# rate_reserves = pd.concat([ioer.iloc[:-1], iorb],axis=0)\n",
    "\n",
    "# fig, ax = plt.subplots(2,1,figsize=(12,12))\n",
    "# rate_reserves.plot(ax=ax[0], title='Interest Rate on Excess Reserves', legend=[], xlim=('2008',None),ylabel='rate (%)',linewidth=3)\n",
    "# (data[['EXCSRESNW']]/1000).plot(ax=ax[1],title='Excess Reserves',xlim=('2008',None),ylabel='billions USD',color='r',linewidth=3)\n",
    "\n",
    "# plt.tight_layout()\n",
    "# plt.show()"
   ]
  },
  {
   "cell_type": "markdown",
   "id": "0f1ad7b6",
   "metadata": {},
   "source": [
    "## The Discount Window"
   ]
  },
  {
   "cell_type": "code",
   "execution_count": null,
   "id": "1f0bf769",
   "metadata": {},
   "outputs": [],
   "source": [
    "# ticks = ['EFFR','DPCREDIT']\n",
    "# leg = info.loc[ticks,'description'].to_list()\n",
    "\n",
    "# data[ticks].plot(linewidth=3,title='Fed Rates')\n",
    "# plt.legend(leg)\n",
    "# plt.show()"
   ]
  },
  {
   "cell_type": "markdown",
   "id": "1ef8e98b",
   "metadata": {},
   "source": [
    "![fed_bb_dashboard.png](../refs/fed_bb_dashboard.png)\n",
    "#### Source\n",
    "Bloomberg FDTR"
   ]
  },
  {
   "cell_type": "markdown",
   "id": "bf0920a4",
   "metadata": {},
   "source": [
    "# Secured Overnight Financing Rate (SOFR)"
   ]
  },
  {
   "cell_type": "markdown",
   "id": "ac571aa7",
   "metadata": {},
   "source": [
    "## The SOFR Index\n",
    "\n",
    "\n",
    "The big picture\n",
    "- Tracks the interbank overnight interest rate.\n",
    "\n",
    "Sourcing:\n",
    "- First published April 3, 2018\n",
    "- SOFR is an index published by the NY Fed in cooperation with the U.S. Office of Financial Research.\n",
    "- Based on Treasury repo transactions. \n",
    "    - Tri-party cleared and settled by the Bank of New York Mellon.\n",
    "    - Bilateral cleared through FICC\n",
    "\n",
    "### SOFR vs LIBOR\n",
    "\n",
    "**LIBOR** is the London InterBank Offer Rate.\n",
    "- Based on a panel of banks' estimates for borrowing/lending costs.\n",
    "- For various reasons, it is being phased out.\n",
    "- This phaseout was discussed for 10 years, but the market is finally making the transition.\n",
    "\n",
    "### Key SOFR Aspects\n",
    "\n",
    "Secured\n",
    "- Rate of collateralized borrowing/lending via repo on U.S. Treasuries.\n",
    "\n",
    "Overnight\n",
    "- Rate is historic, based on the previous overnight lending. \n",
    "- Rate is backed by actual transactions, not surveys or estimates.\n",
    "- No set of tenors (term structure) to SOFR. It is just an overnight rate. \n",
    "- One can impute a term structure of SOFR-related rates from derivatives based on SOFR."
   ]
  },
  {
   "cell_type": "code",
   "execution_count": null,
   "id": "cf1e0cc5",
   "metadata": {},
   "outputs": [],
   "source": [
    "filename = '../data/ref_rates.xlsx'\n",
    "refrates = pd.read_excel(filename,sheet_name='data').set_index('date').dropna()\n",
    "refrates.columns = ['Tbill 3m','FedFunds Effective','SOFR']\n",
    "\n",
    "refrates.plot()\n",
    "plt.show()\n",
    "\n",
    "refrates.plot(xlim=('2020-01-01',None),ylim=(0,2))\n",
    "plt.show()"
   ]
  },
  {
   "cell_type": "markdown",
   "id": "09bc3981",
   "metadata": {},
   "source": [
    "### Blip in Oct, 2019\n",
    "\n",
    "SOFR spikes briefly.\n",
    "\n",
    "This is not an error in the graph.\n",
    "\n",
    "Stressed markets (institutional issues) caused this temporary spike.\n",
    "\n",
    "- Reason for concern for SOFR as new benchmark.\n",
    "- Has not had any such issue in the past few years, including Mar 2020 with COVID market jumps."
   ]
  },
  {
   "cell_type": "markdown",
   "id": "98e0e456",
   "metadata": {},
   "source": [
    "## More on SOFR\n",
    "\n",
    "\n",
    "### Data:\n",
    "- Published in the Fed H.15. Release\n",
    "- Accessed easily in the Fed's FRED data platform\n",
    "- Full methodology\n",
    "\n",
    "https://www.newyorkfed.org/medialibrary/Microsites/arrc/files/2021/users-guide-to-sofr2021-update.pdf\n",
    "\n",
    "### References\n",
    "CME has a useful course to learn more about SOFR.\n",
    "\n",
    "https://www.cmegroup.com/education/courses/introduction-to-sofr.html\n",
    "\n",
    "- CME offers futures contracts based on SOFR\n",
    "- So the material is somewhat focused on this aspect."
   ]
  },
  {
   "cell_type": "markdown",
   "id": "815e4db5",
   "metadata": {
    "heading_collapsed": true
   },
   "source": [
    "# Eurodollars"
   ]
  },
  {
   "cell_type": "markdown",
   "id": "c8729e6d",
   "metadata": {
    "hidden": true
   },
   "source": [
    "A Eurodollar is a dollar deposited in a bank outside the U.S. It is widely used in interest-rate futures.\n",
    "* The Eurodollar rate is the interest earned on these dollar-denominated deposits held by banks outside the U.S, (in many countries besides Europe.)\n",
    "* The Federal Reserve reports of the Eurodollar rate tend to match the LIBOR rate.\n",
    "* The Fed publishes the Eurodollar rate on release H.15."
   ]
  },
  {
   "cell_type": "markdown",
   "id": "18e6ba59",
   "metadata": {},
   "source": [
    "# Repo"
   ]
  },
  {
   "cell_type": "markdown",
   "id": "dbfb5b93",
   "metadata": {},
   "source": [
    "A repurchase agreement (repo) is a contract where a dealer sells securities to another party with a deal to buy them back at a later date at a predetermined price.\n",
    "* Repo is a common form of short-term borrowing.\n",
    "* The difference between the selling price and the re-purchase price is the interest paid. This effective interest rate is the repo rate.\n",
    "* The difference between the value of the collateral and the sell price is the haircut on the repo.\n",
    "* The repo is, in essence, a collateralized loan."
   ]
  },
  {
   "cell_type": "markdown",
   "id": "020084b9",
   "metadata": {},
   "source": [
    "### Example: \n",
    "Suppose an asset has a market value of \\\\$100 and a bank sells it for \\\\$80 with an agreement to repurchase it for \\\\$88.\n",
    "* The repo rate is 10\\%. $\\frac{88−80}{80}$\n",
    "* The haircut is 20\\%. $\\frac{100−80}{100}$"
   ]
  },
  {
   "cell_type": "markdown",
   "id": "6d7db6a4",
   "metadata": {},
   "source": [
    "### Repo risk\n",
    "Repo is considered very safe as the security transacted serves as collateral against default by either party.\n",
    "* The most common repo is overnight. Longer term repos are referred to as term repo.\n",
    "* Notably, the repo security is not subject to bankruptcy procedures. Either party can “walk away” if counterparty defaults."
   ]
  },
  {
   "cell_type": "markdown",
   "id": "251a8fa0",
   "metadata": {},
   "source": [
    "## Why Repo?\n",
    "\n",
    "Repo is part of the core infrastructure of financial transactions. \n",
    "\n",
    "What important functions does it serve?"
   ]
  },
  {
   "cell_type": "markdown",
   "id": "d44c1806",
   "metadata": {},
   "source": [
    "## Repo References\n",
    "\n",
    "### Repo Haircuts and Rates Distributions\n",
    "https://www.federalreserve.gov/econres/notes/feds-notes/the-dynamics-of-the-us-overnight-triparty-repo-market-20210802.html\n",
    "\n",
    "### SIFMA Charts\n",
    "https://www.sifma.org/resources/research/reports/us-repo-market-chart-book/\n",
    "https://www.sifma.org/wp-content/uploads/2022/02/SIFMA-Research-US-Repo-Markets-Chart-Book-2022.pdf"
   ]
  },
  {
   "cell_type": "markdown",
   "id": "741a75da",
   "metadata": {
    "heading_collapsed": true
   },
   "source": [
    "# Other Money Market Rates"
   ]
  },
  {
   "cell_type": "markdown",
   "id": "2063e6ce",
   "metadata": {
    "hidden": true
   },
   "source": [
    "## Certificates of Deposit\n",
    "\n",
    "A certificates of deposit (CD) is a time deposit where the bank pays back principal and interest at the end of a fixed term.\n",
    "* A CD is considered a savings account, and are thus FDIC insured.\n",
    "* Deposits can not be withdrawn on demand.\n",
    "* A large enough CD, (say \\\\$100,000,) is typically transferable,\n",
    "so there is a market for these.\n",
    "* Most traded CD’s have a very short maturity, (3 months or less.)"
   ]
  },
  {
   "cell_type": "markdown",
   "id": "01b46145",
   "metadata": {
    "hidden": true
   },
   "source": [
    "## Commercial Paper\n",
    "\n",
    "Commercial paper is short-term, unsecured debt issued by firms.\n",
    "* This is an important source of funding for nonfinancial firms.\n",
    "* The paper typically matures in one to two months. It must be less than 270 days in order to avoid SEC registration and regulation.\n",
    "* The paper is typically issued in \\\\$100,000 denominations.\n",
    "* While the paper is unsecured, its short maturity makes it relatively safe."
   ]
  },
  {
   "cell_type": "markdown",
   "id": "27d1ea01",
   "metadata": {
    "hidden": true
   },
   "source": [
    "## Money Market Funds"
   ]
  },
  {
   "cell_type": "markdown",
   "id": "e0d6e289",
   "metadata": {
    "hidden": true
   },
   "source": [
    "Money market funds provide small investors with access to money market securities.\n",
    "* Money market mutual funds aim to keep net asset value (NAV), or share value constant at $1. The interest rate paid out fluctuates with the return of the assets in the fund.\n",
    "* Money market mutual funds have become an important funding source for money market instruments.\n",
    "\n",
    "The data\n",
    "\n",
    "https://fred.stlouisfed.org/series/MMMFFAQ027S"
   ]
  },
  {
   "cell_type": "markdown",
   "id": "4c07cdd5",
   "metadata": {
    "hidden": true
   },
   "source": [
    "### Risk of money market funds\n",
    "\n",
    "Money market funds have been very successful in maintaining NAV at $1.\n",
    "* Furthermore, money market funds have restrictions to enhance safety.\n",
    "* Average maturity of securities had to be less than 90 days. In response to crisis, moved to 60.\n",
    "* Enhanced rules on allocations, ratings of investments, etc."
   ]
  },
  {
   "cell_type": "markdown",
   "id": "7641ae50",
   "metadata": {
    "hidden": true
   },
   "source": [
    "### Money market funds in the crisis\n",
    "If the share value of the market fund falls below \\\\$1, it is said to “break the buck.”\n",
    "* Given the safe assets held by the fund, this is a very unlikely event. Until 2008, it had only happened once.\n",
    "* When Lehman failed, its commercial paper was worthless. This caused a fund to break the buck and another to liquidate due to redemptions.\n",
    "* The U.S. Treasury intervened and offered insurance like FDIC.\n",
    "* At the end of 2008, the balance in money market funds was at $3,757. (Source: Flow of Funds. Board of Governors.)"
   ]
  },
  {
   "cell_type": "markdown",
   "id": "db744835",
   "metadata": {
    "heading_collapsed": true
   },
   "source": [
    "# Risk-Free Rate?"
   ]
  },
  {
   "cell_type": "markdown",
   "id": "aa24b3b7",
   "metadata": {
    "hidden": true
   },
   "source": [
    "Financial models often use a risk-free rate. \n",
    "\n",
    "This is often taken as a T-bill rate, but be careful.\n",
    "* T-bills are used to fulfill a variety of regulatory requirements, and they are given preferential regulatory treatment.\n",
    "* T-bills are given favorable tax treatment. (State and municipal taxes do not apply.)\n",
    "* These facts cause extra demand for T-bills, driving the rates (artificially?) lower.\n",
    "\n",
    "Models more sensitive to the interest rate will typically use SOFR, Eurodollar, or swap rates."
   ]
  },
  {
   "cell_type": "markdown",
   "id": "02ba7024",
   "metadata": {
    "heading_collapsed": true
   },
   "source": [
    "# Appendix"
   ]
  },
  {
   "cell_type": "markdown",
   "id": "c2427242",
   "metadata": {
    "hidden": true
   },
   "source": [
    "## LIBOR\n",
    "\n",
    "The London Interbank Offered Rate (LIBOR) serves as a reference short-term interest rate for the money market.\n",
    "* This is a rate at which large banks in London will lend and borrow to each other.\n",
    "* The rate is quoted for several currencies, with the dollar-denominated LIBOR frequently used in U.S. markets.\n",
    "\n",
    "### Transition in CME Derivatives\n",
    "The LIBOR Transition is ongoing, and there are still many contracts linked to LIBOR.\n",
    "\n",
    "Per the WSJ (link below,) the following notionals of futures and options traded in CME products.\n",
    "\n",
    "|       | May 2021 | May 2022 |\n",
    "|-------|----------|----------|\n",
    "| LIBOR | 2.99    | 2.33    |\n",
    "| SOFR  | 0.19    | 1.90    |\n",
    "\n",
    "\n",
    "\n",
    "### Transition in swaps\n",
    "<img src=\"../refs/a4/swap_volume_libor_transition.png\"/>\n",
    "\n",
    "#### References\n",
    "https://www.bloomberg.com/professional/blog/sofr-liquidity-eclipses-libor/\n",
    "\n",
    "https://www.wsj.com/articles/companies-keep-libor-on-the-books-despite-push-to-new-benchmark-11654594202?st=hnvr9wnr4nlgoqp&reflink=desktopwebshare_permalink"
   ]
  },
  {
   "cell_type": "code",
   "execution_count": null,
   "id": "356f1bc1",
   "metadata": {},
   "outputs": [],
   "source": []
  }
 ],
 "metadata": {
  "language_info": {
   "name": "python"
  }
 },
 "nbformat": 4,
 "nbformat_minor": 5
}
