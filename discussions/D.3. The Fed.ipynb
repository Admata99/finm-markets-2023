{
 "cells": [
  {
   "cell_type": "markdown",
   "id": "e7a67d0e",
   "metadata": {},
   "source": [
    "# D.3. The Fed\n",
    "\n",
    "## Markets Foundations\n",
    "\n",
    "### UChicago Financial Mathematics\n",
    "\n",
    "#### September 2023\n",
    "\n",
    "* Mark Hendricks\n",
    "* hendricks@uchicago.edu"
   ]
  },
  {
   "cell_type": "code",
   "execution_count": null,
   "id": "4dea2a2c",
   "metadata": {},
   "outputs": [],
   "source": [
    "import pandas as pd\n",
    "import numpy as np\n",
    "import datetime\n",
    "import warnings\n",
    "\n",
    "from sklearn.linear_model import LinearRegression\n",
    "from scipy.optimize import fsolve  \n",
    "\n",
    "import matplotlib.pyplot as plt\n",
    "%matplotlib inline\n",
    "plt.rcParams['figure.figsize'] = (12,6)\n",
    "plt.rcParams['font.size'] = 15\n",
    "plt.rcParams['legend.fontsize'] = 13"
   ]
  },
  {
   "cell_type": "code",
   "execution_count": null,
   "id": "78430efc",
   "metadata": {},
   "outputs": [],
   "source": [
    "data = pd.read_excel('../data/fed_data.xlsx',sheet_name='data').set_index('date')\n",
    "\n",
    "FREQ = 52\n",
    "\n",
    "if FREQ == 4:\n",
    "    FREQcode = 'Q'\n",
    "elif FREQ == 1:\n",
    "    FREQcode = 'Y'\n",
    "elif FREQ==12:\n",
    "    FREQcode = 'M'\n",
    "elif FREQ==52:\n",
    "    FREQcode = 'W-FRI'\n",
    "\n",
    "data = data.resample(FREQcode).agg('last')\n",
    "\n",
    "info = pd.read_excel('../data/fed_data.xlsx',sheet_name='info').set_index('ticker (FRED)')"
   ]
  },
  {
   "cell_type": "markdown",
   "id": "1e49d6d0",
   "metadata": {},
   "source": [
    "## Monetary policy in the media\n",
    "\n",
    "In the media, monetary policy is typically reported with statements such as\n",
    "*Powell lowered interest rates half a percentage point today.*\n",
    "\n",
    "- What does this mean?\n",
    "- Of course, Powell did not change “interest rates.” Almost all interest rates are determined in the market. Powell manipulated a specific rate, the Fed Funds rate.\n",
    "- As noted above, the Fed Funds rate is a market rate, so the Fed \"sets\" it via open market operations discussed below.\n",
    "\n",
    "![fed_bb_dashboard.png](../refs/fed/fed_bb_dashboard_2023.png)\n",
    "#### Source\n",
    "Bloomberg `FED`"
   ]
  },
  {
   "cell_type": "markdown",
   "id": "b07f31e6",
   "metadata": {
    "heading_collapsed": true
   },
   "source": [
    "# Open Market Operations"
   ]
  },
  {
   "cell_type": "markdown",
   "id": "cd972759",
   "metadata": {
    "hidden": true
   },
   "source": [
    "An **expansionary** open market operation, the Fed prints money and uses it to buy Treasury bonds.\n",
    "- This puts more money into the economy and raises the money supply.\n",
    "- In effect, it is as if the Fed is printing money and dropping it into the economy.\n",
    "- This causes downward pressure on short-term rates.\n",
    "\n",
    "A **contractionary** open market operation is the reverse:\n",
    "- Sell some of the accumulated bonds in order to pull money back out of the market.\n",
    "- This causes upward pressure on short-term rates.\n",
    "\n",
    "The Fed does not target the actual money supply, but rather a particular short-term interest rate: the **Fed Funds rate**.\n",
    "\n",
    "- These are two sides of the same coin.\n",
    "- The short-term Fed Funds rate moves negatively with the money supply.\n",
    "- At times, central banks target the actual money supply but it is harder to measure in real time."
   ]
  },
  {
   "cell_type": "markdown",
   "id": "a866021e",
   "metadata": {
    "hidden": true
   },
   "source": [
    "### Monetary Policy\n",
    "*so as to promote effectively the goals of maximum employment, stable prices, and moderate long-term interest rates.*\n",
    "\n",
    "#### Referred to as the dual mandate\n",
    "- Keep inflation low and stable\n",
    "- Keep economy at full employment\n",
    "- Third goal listed above regarding interest rates is seen as a consequence of the two above.\n",
    "\n",
    "See the Inflation note for more on this topic.\n",
    "\n",
    "#### Reference\n",
    "https://www.federalreserve.gov/monetarypolicy/monetary-policy-what-are-its-goals-how-does-it-work.htm"
   ]
  },
  {
   "cell_type": "markdown",
   "id": "8488c6a2",
   "metadata": {
    "hidden": true
   },
   "source": [
    "## Temporary OMO\n",
    "\n",
    "Importance of overnight repo.\n",
    "\n",
    "### Statement from the Fed...\n",
    "    Temporary open market operations involve short-term repurchase and reverse repurchase agreements that are designed to temporarily add or drain reserves available to the banking system and influence day-to-day trading in the federal funds market.\n",
    "\n",
    "### Reverse Repo as described by the Fed\n",
    "    A reverse repurchase agreement (known as reverse repo or RRP) is a transaction in which the New York Fed under the authorization and direction of the Federal Open Market Committee sells a security to an eligible counterparty with an agreement to repurchase that same security at a specified price at a specific time in the future. For these transactions, eligible securities are U.S. Treasury instruments, federal agency debt and the mortgage-backed securities issued or fully guaranteed by federal agencies.\n",
    "    For more information, see https://www.newyorkfed.org/markets/rrp_faq.html\n",
    "\n",
    "#### Reference:\n",
    "https://fred.stlouisfed.org/series/RRPONTSYD"
   ]
  },
  {
   "cell_type": "code",
   "execution_count": null,
   "id": "1747db84",
   "metadata": {},
   "outputs": [],
   "source": [
    "repo = data['RPONTSYD'] - data['RRPONTSYD']\n",
    "repo.plot(xlim=('2020',None),linewidth=3,title='Fed Overnight Repo - Net Money Creation',ylabel='billions USD')\n",
    "\n",
    "plt.show()"
   ]
  },
  {
   "cell_type": "markdown",
   "id": "dd78a0cb",
   "metadata": {
    "hidden": true
   },
   "source": [
    "## Beyond Treasuries\n",
    "\n",
    "It is not critical that Treasury bonds be used when the Fed exchanges new money for securities.\n",
    "- They could buy many things, but Treasury bonds are safe, liquid, and convenient.\n",
    "- During the Financial crisis, the Fed got very creative in what they bought.\n",
    "- To inject more money, the Fed bought asset-backed-securities including some potentially distressed mortgage-backed securities.\n",
    "\n",
    "The following figure shows how the Fed has increased its assets and broadened what it is buying."
   ]
  },
  {
   "cell_type": "markdown",
   "id": "ead36bf3",
   "metadata": {
    "hidden": true
   },
   "source": [
    "## FOMC\n",
    "The Federal Open Market Committee determines when open market operations are used.\n",
    "- All 7 governors are voting members on this committee.\n",
    "- The NY Fed president is also a voting member.\n",
    "- Of the other 11 Fed presidents, 4 of them are voting members on a rotating basis.\n",
    "\n",
    "### FOMC Announcements\n",
    "![fed_calendar1.png](../refs/fed/fed_bb_calendar.png)\n",
    "\n",
    "#### Source\n",
    "Bloomberg `FED`->`Calendar`.\n",
    "\n",
    "https://www.federalreserve.gov/monetarypolicy/fomccalendars.htm"
   ]
  },
  {
   "cell_type": "markdown",
   "id": "0eb0a4b9",
   "metadata": {
    "heading_collapsed": true
   },
   "source": [
    "# Balance Sheet"
   ]
  },
  {
   "cell_type": "code",
   "execution_count": null,
   "id": "fd33ce0b",
   "metadata": {},
   "outputs": [],
   "source": [
    "data = pd.read_excel('../data/fed_bs.xlsx',sheet_name='data').set_index('date')\n",
    "\n",
    "FREQ = 52\n",
    "\n",
    "if FREQ == 4:\n",
    "    FREQcode = 'Q'\n",
    "elif FREQ == 1:\n",
    "    FREQcode = 'Y'\n",
    "elif FREQ==12:\n",
    "    FREQcode = 'M'\n",
    "elif FREQ==52:\n",
    "    FREQcode = 'W-FRI'\n",
    "\n",
    "data = data.resample(FREQcode).agg('last')\n",
    "\n",
    "info = pd.read_excel('../data/fed_bs.xlsx',sheet_name='info').set_index('ticker (FRED)')"
   ]
  },
  {
   "cell_type": "code",
   "execution_count": null,
   "id": "4bb7da8e",
   "metadata": {},
   "outputs": [],
   "source": [
    "data.plot();"
   ]
  },
  {
   "cell_type": "markdown",
   "id": "5d67fe8b",
   "metadata": {
    "hidden": true
   },
   "source": [
    "#### Source\n",
    "https://fred.stlouisfed.org/release/tables?rid=20&eid=840849#snid=840941\n",
    "\n",
    "For another look at the balance sheet, try the Cleveland Fed's tool.\n",
    "\n",
    "https://www.clevelandfed.org/our-research/indicators-and-data/credit-easing.aspx"
   ]
  },
  {
   "cell_type": "markdown",
   "id": "0d99c24c",
   "metadata": {
    "heading_collapsed": true,
    "hidden": true
   },
   "source": [
    "## By Maturity\n",
    "![fed_bs_maturity.png](../refs/fed/fed_bs_maturity_2023.png)\n",
    "\n",
    "#### Source:\n",
    "Table 2, current release.\n",
    "https://www.federalreserve.gov/monetarypolicy/bst_fedsbalancesheet.htm"
   ]
  },
  {
   "cell_type": "markdown",
   "id": "5c24805b",
   "metadata": {},
   "source": [
    "***"
   ]
  },
  {
   "cell_type": "markdown",
   "id": "56082b79",
   "metadata": {
    "heading_collapsed": true
   },
   "source": [
    "# Fed Structure"
   ]
  },
  {
   "cell_type": "markdown",
   "id": "88a8fcb7",
   "metadata": {
    "hidden": true
   },
   "source": [
    "The Federal Reserve is a system.\n",
    "- 12 regional banks\n",
    "- along with a board of 7 governors.\n",
    "\n",
    "Regional banks\n",
    "- president appointed by the regional bank’s board.\n",
    "\n",
    "Board of Governors\n",
    "- 14-year term, and is appointed by the President of the U.S. and confirmed by the Senate. \n",
    "- The long terms are meant to give them a degree of independence from political considerations.\n",
    "- The Chair of the Board of Governors is appointed by the President for a 4-year term.\n",
    "\n",
    "![fed_map.png](../refs/fed/fed_map.png)\n",
    "\n",
    "#### Source:\n",
    "https://www.federalreserve.gov/monetarypolicy/files/BeigeBook_20220601.pdf"
   ]
  },
  {
   "cell_type": "markdown",
   "id": "a11fa6fb",
   "metadata": {
    "hidden": true
   },
   "source": [
    "The Fed does more than monetary policy.\n",
    "- Lends to banks when they are having liquidity troubles.\n",
    "- This role was an important motivation in creating the Fed in 1914, as there were many bank failures leading up to that point.\n",
    "\n",
    "## Liquidity Facilities\n",
    "![fed_credit_facilities.png](../refs/fed/fed_credit_facilities.png)\n",
    "\n",
    "## Support for Specific Institutions\n",
    "![fed_support_institutions.png](../refs/fed/fed_support_institutions.png)\n",
    "\n",
    "### Source for charts\n",
    "https://www.federalreserve.gov/monetarypolicy/bst_recenttrends.htm"
   ]
  },
  {
   "cell_type": "markdown",
   "id": "9d7f2d3b",
   "metadata": {},
   "source": [
    "***"
   ]
  },
  {
   "cell_type": "markdown",
   "id": "03cf3587",
   "metadata": {
    "heading_collapsed": true
   },
   "source": [
    "# Appendix: Statistical Releases"
   ]
  },
  {
   "cell_type": "markdown",
   "id": "55d60cf4",
   "metadata": {
    "hidden": true
   },
   "source": [
    "### Daily H.15 Release\n",
    "Selected interest rates\n",
    "https://www.federalreserve.gov/releases/h15/\n",
    "\n",
    "### H.4.1 Release\n",
    "Federal Reserve's Balance Sheet\n",
    "https://www.federalreserve.gov/releases/h41/\n",
    "\n",
    "### Beige Book\n",
    "https://www.federalreserve.gov/monetarypolicy/beige-book-default.htm"
   ]
  },
  {
   "cell_type": "markdown",
   "id": "1e7e76b9",
   "metadata": {
    "heading_collapsed": true
   },
   "source": [
    "# Appendix: Fed's Impact on Shape of the Rate Curve"
   ]
  },
  {
   "cell_type": "markdown",
   "id": "e07a8e3a",
   "metadata": {
    "hidden": true
   },
   "source": [
    "When the Fed manipulates the short-term Fed Funds rate, how does the rest of the term structure respond?\n",
    "- While much research is still devoted to this question, empirical work indicates that the long term rates move in the same direction.\n",
    "- Namely, the Fed pumps money through buying bonds, which lowers the Fed Funds rate. On average, the long-term rates will also go down.\n",
    "\n",
    "## A conundrum?\n",
    "\n",
    "The fact that the long-rates move with the Fed Funds rate is somewhat surprising.\n",
    "- In the long-run, inflation is almost proportional to money growth. \n",
    "- Thus, if the Fed is pumping in money, one might think expected inflation would go up. - If investors expect more inflation, then the long-term rates would have to increase to compensate.\n",
    "\n",
    "## A resolution?\n",
    "\n",
    "Perhaps investors see the Fed pumping money in and infer that the Fed must be trying to fight off some deflation they see coming.\n",
    "- Then investors would not take the money injection as a sign of future inflation but rather a sign that the Fed now sees deflation as a threat.\n",
    "\n",
    "## Greenspan's Conundrum\n",
    "In 2005, the usual empirical relation did not hold.\n",
    "- The Fed was raising the Fed Funds rate, but long-term rates were instead falling.\n",
    "- Greenspan remarked that this was a conundrum, as it did not obey the usual empirical relationship.\n",
    "- Of course, this is not that puzzling considering the alternate reasoning above.\n",
    "- The short rate was rising while the long rate fell until the yield curve inverted. "
   ]
  },
  {
   "cell_type": "markdown",
   "id": "53ca35c1",
   "metadata": {},
   "source": [
    "***"
   ]
  },
  {
   "cell_type": "markdown",
   "id": "d4ba9bba",
   "metadata": {},
   "source": [
    "# Repo at the Fed"
   ]
  },
  {
   "cell_type": "markdown",
   "id": "bfeae83a",
   "metadata": {},
   "source": [
    "https://www.newyorkfed.org/markets/domestic-market-operations/monetary-policy-implementation/repo-reverse-repo-agreements\n",
    "\n",
    "https://www.newyorkfed.org/markets/desk-operations/repo\n",
    "\n",
    "https://www.newyorkfed.org/markets/domestic-market-operations/monetary-policy-implementation/repo-reverse-repo-agreements/TOMO-Repo-Collateral-Schedule\n",
    "\n",
    "https://www.newyorkfed.org/markets/rrp_faq\n",
    "\n",
    "https://www.newyorkfed.org/markets/repo-agreement-ops-faq"
   ]
  }
 ],
 "metadata": {
  "language_info": {
   "name": "python"
  }
 },
 "nbformat": 4,
 "nbformat_minor": 5
}
