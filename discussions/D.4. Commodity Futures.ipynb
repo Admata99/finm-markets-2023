{
 "cells": [
  {
   "cell_type": "markdown",
   "id": "58ed8fc2",
   "metadata": {},
   "source": [
    "# D.4. Commodity Futures\n",
    "\n",
    "## Markets Foundations\n",
    "\n",
    "### UChicago Financial Mathematics\n",
    "\n",
    "#### September 2023\n",
    "\n",
    "* Mark Hendricks\n",
    "* hendricks@uchicago.edu"
   ]
  },
  {
   "cell_type": "code",
   "execution_count": null,
   "id": "a10348ff",
   "metadata": {},
   "outputs": [],
   "source": [
    "import pandas as pd\n",
    "import numpy as np\n",
    "import datetime\n",
    "import warnings\n",
    "\n",
    "from sklearn.linear_model import LinearRegression\n",
    "from sklearn.decomposition import PCA\n",
    "from scipy.optimize import minimize\n",
    "\n",
    "import seaborn as sns\n",
    "import matplotlib.pyplot as plt\n",
    "%matplotlib inline\n",
    "plt.rcParams['figure.figsize'] = (12,6)\n",
    "plt.rcParams['font.size'] = 15\n",
    "plt.rcParams['legend.fontsize'] = 13\n",
    "\n",
    "from matplotlib.ticker import (MultipleLocator,\n",
    "                               FormatStrFormatter,\n",
    "                               AutoMinorLocator)\n",
    "import sys\n",
    "sys.path.insert(0, '../cmds')\n",
    "#from utils import *\n",
    "from portfolio import *"
   ]
  },
  {
   "cell_type": "code",
   "execution_count": null,
   "id": "4b8e596d",
   "metadata": {},
   "outputs": [],
   "source": [
    "LOADFILE = '../data/futures_data.xlsx'\n",
    "futures_info = pd.read_excel(LOADFILE,sheet_name='futures contracts').set_index('symbol')"
   ]
  },
  {
   "cell_type": "markdown",
   "id": "614599ea",
   "metadata": {},
   "source": [
    "## Definition"
   ]
  },
  {
   "cell_type": "markdown",
   "id": "e030c8db",
   "metadata": {},
   "source": [
    "A futures contract is an agreement\n",
    "* entered at $t$\n",
    "* to purchase an asset at $T$\n",
    "* for a price $F$\n",
    "\n",
    "It is an obligation, not an option!\n",
    "\n",
    "We will return to some key differences between futures and forwards.\n",
    "\n",
    "\n",
    "### Assets\n",
    "\n",
    "Futures contracts are an important way to trade commodities including\n",
    "* energy\n",
    "* metals\n",
    "* grains\n",
    "* livestock\n",
    "\n",
    "Futures contracts are traded widely on many assets beyond commodities:\n",
    "* interest-rate products\n",
    "* currency\n",
    "* equity indexes\n",
    "* other indexes"
   ]
  },
  {
   "cell_type": "markdown",
   "id": "16ccc421",
   "metadata": {},
   "source": [
    "### Data on Variety\n",
    "\n",
    "The correlation heatmap below gives a sense of the range of products.\n",
    "* Most bond correlations are 80%+\n",
    "* Most stock correlations are 60%+"
   ]
  },
  {
   "cell_type": "code",
   "execution_count": null,
   "id": "e5cbc36b",
   "metadata": {},
   "outputs": [],
   "source": [
    "ADJLAB = 'roll=ratio'\n",
    "futures_hist = pd.read_excel(LOADFILE,sheet_name=f'continuous futures {ADJLAB}').set_index('date')\n",
    "corrmat = futures_hist.loc['2015':,:].corr()\n",
    "sns.heatmap(corrmat,annot=True);"
   ]
  },
  {
   "cell_type": "markdown",
   "id": "e7ef1993",
   "metadata": {},
   "source": [
    "### Variety of means and volatilities"
   ]
  },
  {
   "cell_type": "code",
   "execution_count": null,
   "id": "e91a925d",
   "metadata": {},
   "outputs": [],
   "source": [
    "px = futures_hist.copy()\n",
    "px[px<0] = np.nan\n",
    "rx = px.pct_change().dropna()\n",
    "\n",
    "performanceMetrics(rx,annualization=252).iloc[:,0:2].style.format('{:.1%}')"
   ]
  },
  {
   "cell_type": "code",
   "execution_count": null,
   "id": "52e957a1",
   "metadata": {},
   "outputs": [],
   "source": [
    "df = performanceMetrics(rx,annualization=252).iloc[:,0:2]\n",
    "df.index.name = 'symbol'\n",
    "df.reset_index(inplace=True)\n",
    "\n",
    "fig, ax = plt.subplots()\n",
    "ax.scatter(x=df['Vol'],y=df['Mean'],s=150)\n",
    "ax.set_xlabel('volatility')\n",
    "ax.set_ylabel('mean')\n",
    "\n",
    "for idx, row in df.iterrows():\n",
    "    ax.annotate(row['symbol'], (row['Vol'], row['Mean']))\n",
    "\n",
    "plt.title('Futures Return Stats')\n",
    "plt.show()"
   ]
  },
  {
   "cell_type": "markdown",
   "id": "93e4eebf",
   "metadata": {},
   "source": [
    "## Trading"
   ]
  },
  {
   "cell_type": "markdown",
   "id": "ee6f0c13",
   "metadata": {
    "heading_collapsed": true
   },
   "source": [
    "## Exchanges\n",
    "\n",
    "**Futures** trade on exchanges. In U.S. markets, the following two exchanges are of particular note:\n",
    "\n",
    "* Chicago Mercantile Exchange (CME)\n",
    "* Intercontinental Exchange (ICE)\n",
    "\n",
    "In recent years, the trading has moved to being overwhelmingly (and at many exchanges, completely,) electronic.\n",
    "\n",
    "### Standardization\n",
    "One role of an exchange is to standardize the trading, which allows for better liquidity.\n",
    "\n",
    "This is especially useful in commodities, to set the grade, size, location of the asset.\n",
    "\n",
    "### Clearing\n",
    "As part of trading on an exchange, futures are **centrally cleared.** This is important for \n",
    "* eliminating counterparty risk\n",
    "* achieving better netting and margin requirements"
   ]
  },
  {
   "cell_type": "markdown",
   "id": "280b7582",
   "metadata": {},
   "source": [
    "### Settlement\n",
    "\n",
    "Settlement may be via\n",
    "* delivery of the asset\n",
    "* cash payment equal to the spot price of the asset\n",
    "\n",
    "Note that there is cash delivery for\n",
    "* equity indexes\n",
    "* bitcoin (index)\n",
    "But there is also cash delivery for some physical assets\n",
    "* Hogs are delivered via cash\n",
    "* Cattle are delivered physically"
   ]
  },
  {
   "cell_type": "code",
   "execution_count": null,
   "id": "082ccf82",
   "metadata": {},
   "outputs": [],
   "source": [
    "futures_info[['name','category','delivery type']]"
   ]
  },
  {
   "cell_type": "code",
   "execution_count": null,
   "id": "436a0c4b",
   "metadata": {},
   "outputs": [],
   "source": [
    "futures_info"
   ]
  },
  {
   "cell_type": "markdown",
   "id": "c9f9c66b",
   "metadata": {},
   "source": [
    "## Quoting Conventions\n",
    "\n",
    "https://www.cmegroup.com/markets/energy/crude-oil/light-sweet-crude.contractSpecs.html\n",
    "\n",
    "### Multiple"
   ]
  },
  {
   "cell_type": "code",
   "execution_count": null,
   "id": "90c64e57",
   "metadata": {},
   "outputs": [],
   "source": [
    "futures_info[['name','contract size','contract value']].style.format({'contract size':'{:,.0f}','contract value':'${:,.0f}'})"
   ]
  },
  {
   "cell_type": "markdown",
   "id": "dc9a0153",
   "metadata": {},
   "source": [
    "### Tick Size"
   ]
  },
  {
   "cell_type": "code",
   "execution_count": null,
   "id": "0c22fc8b",
   "metadata": {},
   "outputs": [],
   "source": [
    "futures_info[['name','tick size','tick value']].style.format({'tick size':'{:.3f}','tick value':'{:.2f}'})"
   ]
  },
  {
   "cell_type": "markdown",
   "id": "d7cd712a",
   "metadata": {},
   "source": [
    "## Open Interest\n",
    "\n",
    "**Open Interest** measures the number of open positions for the specific futures contract, cumulated over time.\n",
    "\n",
    "**Volume** is the number of contracts traded that period (daily below).\n",
    "\n",
    "See the chart below for the difference"
   ]
  },
  {
   "cell_type": "code",
   "execution_count": null,
   "id": "3d997dbb",
   "metadata": {},
   "outputs": [],
   "source": [
    "futures_info[['name','open interest','volume','volume 10d avg']].style.format({'open interest':'{:,.0f}','volume':'{:,.0f}','volume 10d avg':'{:,.0f}'})"
   ]
  },
  {
   "cell_type": "markdown",
   "id": "6fb667f2",
   "metadata": {},
   "source": [
    "#### Closing Positions\n",
    "\n",
    "Most open interest is ultimately closed via **offsetting contracts, NOT delivery**.\n",
    "\n",
    "Consider the open interest for various contracts on Crude Oil (CL) and Gold (GC).\n",
    "\n",
    "For each contract, we see the open interest rises about a month before the delivery, and then drops to nearly zero just before delivery."
   ]
  },
  {
   "cell_type": "code",
   "execution_count": null,
   "id": "e553914e",
   "metadata": {},
   "outputs": [],
   "source": [
    "TICKS = ['CL','GC']\n",
    "\n",
    "futures_ts = pd.read_excel(LOADFILE,sheet_name='futures timeseries',header=[0,1,2]).droplevel(2,axis=1)\n",
    "futures_ts.set_index(futures_ts.columns[0],inplace=True)\n",
    "futures_ts.index.name = 'date'\n",
    "futures_ts = futures_ts.swaplevel(axis=1)"
   ]
  },
  {
   "cell_type": "code",
   "execution_count": null,
   "id": "063d8f4f",
   "metadata": {},
   "outputs": [],
   "source": [
    "idx = 0\n",
    "exname = futures_ts['OPEN_INT'].iloc[:,idx].name\n",
    "exdata = futures_ts['OPEN_INT'].iloc[:,idx].dropna()\n",
    "exdata.plot(title=f'Open Interest for {exname}');"
   ]
  },
  {
   "cell_type": "code",
   "execution_count": null,
   "id": "8926a525",
   "metadata": {},
   "outputs": [],
   "source": [
    "intpct = exdata[-1]/exdata.max()\n",
    "print(f'Open Interest at close is {intpct:.2%} of its peak!')"
   ]
  },
  {
   "cell_type": "markdown",
   "id": "ac9fdca9",
   "metadata": {},
   "source": [
    "### Active Contract\n",
    "\n",
    "For a given futures chain, only a few are liquid. \n",
    "\n",
    "The **active contract** is typically denoted as the front-month (nearest expiration) which typically corresponds with the contract with the highest **open interest**.\n",
    "\n",
    "For the two examples below, we see that the soonest-to-expiry sees a spike in open interest, with the second-nearest expiry rising in anticipation of being the active contract."
   ]
  },
  {
   "cell_type": "markdown",
   "id": "8b26d35b",
   "metadata": {},
   "source": [
    "### Liquidity\n",
    "\n",
    "Thus, the active contract tends to be **much** more liquid , as measured by volume or open interest.\n",
    "\n",
    "As a corollary, a contract will be listed, yet may receive almost zero interest or volume for months or years.\n",
    "\n",
    "In the example **above**, note that the open interest is miniscule for a year."
   ]
  },
  {
   "cell_type": "code",
   "execution_count": null,
   "id": "2801589c",
   "metadata": {},
   "outputs": [],
   "source": [
    "fig, ax = plt.subplots(2,1,figsize=(12,12))\n",
    "futures_ts['OPEN_INT'].iloc[:,0:4].plot(ax=ax[0],xlim=('2022-06','2023-07'),title=f'Open Interest for {TICKS[0]}',ylabel='open interest')\n",
    "futures_ts['VOLUME'].iloc[:,0:4].plot(ax=ax[1],xlim=('2022-06','2023-07'),title=f'Volume for {TICKS[0]}',ylabel='volume')\n",
    "plt.tight_layout()\n",
    "plt.show()"
   ]
  },
  {
   "cell_type": "markdown",
   "id": "f86f8464",
   "metadata": {},
   "source": [
    "### Margins and Marking to Market"
   ]
  },
  {
   "cell_type": "code",
   "execution_count": null,
   "id": "2e2bc136",
   "metadata": {},
   "outputs": [],
   "source": [
    "marg = futures_info[['name']].copy()\n",
    "marg['margin limit %'] = futures_info['margin limit']/futures_info['contract value']\n",
    "\n",
    "marg['vol'] = rx.std().values\n",
    "marg['margin sigma'] = marg['margin limit %'] / marg['vol']\n",
    "marg.set_index('name',inplace=True)\n",
    "marg.index = [' '.join(row.split()[:-2]) for row in marg.index]\n",
    "\n",
    "marg.dropna().sort_values('margin sigma').style.format({'margin limit %':'{:.1%}','vol':'{:.1%}','margin sigma':'{:.1f}'})"
   ]
  },
  {
   "cell_type": "markdown",
   "id": "1e38ccc2",
   "metadata": {},
   "source": [
    "#### Futures References\n",
    "The CME provides a helpful series of videos for an introduction to Futures\n",
    "\n",
    "https://www.cmegroup.com/education/courses/introduction-to-futures/definition-of-a-futures-contract.html"
   ]
  },
  {
   "cell_type": "markdown",
   "id": "961b75c3",
   "metadata": {},
   "source": [
    "## Pricing"
   ]
  },
  {
   "cell_type": "markdown",
   "id": "167ccbbb",
   "metadata": {},
   "source": [
    "## Forward Price\n",
    "The basic model of a futures price is:\n",
    "\n",
    "$$F_0 = S_0 e^{r_f T}$$\n",
    "\n",
    "This equation is derived by no-arbitrage, in a simplified setting of\n",
    "* no market frictions\n",
    "* a constant risk-free rate, $r_f$\n",
    "* no financing considerations (margin, marking to market, etc)\n",
    "\n",
    "This is just the **forward pricing** equation.\n",
    "\n",
    "It says that the futures price should be the spot price compounded by the risk-free rate until delivery."
   ]
  },
  {
   "cell_type": "markdown",
   "id": "eff56f7a",
   "metadata": {},
   "source": [
    "## Carry\n",
    "The pricing formula above accounts for the time-value of money, but it does not account for the **carry** cost of the asset.\n",
    "\n",
    "### Dividend yield\n",
    "Suppose that the asset pays a dividend yield of $q$\n",
    "* dividends on stock index\n",
    "* lease rate on metals\n",
    "\n",
    "### Storage cost\n",
    "The asset may be costly to store, such that it has a negative carry.\n",
    "* oil, grains, etc\n",
    "\n",
    "### Carry\n",
    "Let **carry**, $c$, denote the net difference of the storage costs minus income.\n",
    "\n",
    "Then,\n",
    "$$F_0 = S_0 e^{(r_f+c)T}$$\n",
    "\n",
    "That is, the \n",
    "* higher the storage costs, the **higher** the futures price.\n",
    "* higher the income, the **lower** the futures price."
   ]
  },
  {
   "cell_type": "markdown",
   "id": "bdfbb0e4",
   "metadata": {},
   "source": [
    "### Convenience Yield\n",
    "\n",
    "For consumption assets, the no-arbitrage argument is more complicated.\n",
    "$$F_0 < S_0e^{(r_f+c)T}$$\n",
    "This is due to the fact that the asset has a **convenience yield**, $y$.\n",
    "\n",
    "This convenience yield is not explicit income to the owner, but rather potential income should the consumption use of the asset be important during the contract period.\n",
    "\n",
    "The equation can make explicit note of this,\n",
    "$$F_0 = S_0e^{(r_f+c-y)T}$$\n",
    "or simply include the convenience yield as part of the carry.\n",
    "$$F_0 = S_0e^{(r_f+c^*)T}$$"
   ]
  },
  {
   "cell_type": "markdown",
   "id": "08b56e52",
   "metadata": {},
   "source": [
    "### Negative Price for Oil?\n",
    "\n",
    "Typically, carry costs are a second-order factor for prices.\n",
    "\n",
    "But sometimes market frictions cause them to be of high importance."
   ]
  },
  {
   "cell_type": "code",
   "execution_count": null,
   "id": "26f1d5f7",
   "metadata": {},
   "outputs": [],
   "source": [
    "TICK = 'CL'\n",
    "data_comp = pd.read_excel(LOADFILE,sheet_name=f'roll conventions {TICK}').set_index('date')\n",
    "data_comp['CL1 Comdty'].plot(xlim=('2020-01-01','2020-06-30'),ylim=(-40,70),title=f'Negative Price for {TICK}!',ylabel='active futures price');"
   ]
  },
  {
   "cell_type": "markdown",
   "id": "b5be5ec4",
   "metadata": {},
   "source": [
    "#### References\n",
    "https://www.nytimes.com/2020/04/20/business/oil-prices.html\n",
    "https://www.forbes.com/sites/sarahhansen/2020/04/21/heres-what-negative-oil-prices-really-mean/?sh=5530d0185a85"
   ]
  },
  {
   "cell_type": "markdown",
   "id": "77681e99",
   "metadata": {},
   "source": [
    "## Complications\n",
    "\n",
    "There are various complications to the simple model.\n",
    "\n",
    "### Moving Interest Rates\n",
    "The formulas above assume a constant interest rate. \n",
    "\n",
    "If the interest rate moves, then we would have the following adjustments:\n",
    "* **Higher** price if asset is **positively** correlated to the asset value\n",
    "* **Lower** price if asset is **negatively** correlated to the asset value\n",
    "Why?\n",
    "\n",
    "### Daily Settlement\n",
    "Futures contracts are settled daily, which means the cashflows are paid/received day-by-day rather than all at delivery.\n",
    "\n",
    "#### Terminology\n",
    "- **Daily Settlement**: The profit/loss of the day is settled via an accrual / deduction from the margin account. This payment is irrevocable. That is to say that it is not collateral but a permanent payment based on the day's movement.\n",
    "\n",
    "- **Variation Margin**: To reduce counterparty risk in some collateralized trades, (such as repo,) you might need to pay a variation margin when the collateral value goes down. This is a form of collateral: it earns interest on your behalf, and it will be returned at the end of the trade.\n",
    "\n",
    "- **Mark-to-market**: Revising the price of an asset in the financial records, (such as a balance sheet,) to reflect the market movements in the price. This has no implications for cashflow but rather is a financial accounting revision. This term is often used to refer to teh **daily settlement** mentioned above, but this term is more general."
   ]
  },
  {
   "cell_type": "markdown",
   "id": "d248b661",
   "metadata": {},
   "source": [
    "## Futures vs Forwards\n",
    "\n",
    "The CME video compares and contrasts.\n",
    "\n",
    "https://www.cmegroup.com/education/courses/introduction-to-futures/futures-contracts-compared-to-forwards.html\n",
    "\n",
    "* For each difference, would it cause the price of the future contract to be more or less than the comparable forward?\n",
    "\n",
    "* Which differences do you think are of most practical importance?"
   ]
  },
  {
   "cell_type": "markdown",
   "id": "7c4cb75e",
   "metadata": {},
   "source": [
    "## The Futures Curve"
   ]
  },
  {
   "cell_type": "markdown",
   "id": "9ebef962",
   "metadata": {},
   "source": [
    "## Defining the Curve\n",
    "\n",
    "At a given date, consider the full chain of some futures contract:"
   ]
  },
  {
   "cell_type": "code",
   "execution_count": null,
   "id": "b5f2f4d4",
   "metadata": {},
   "outputs": [],
   "source": [
    "list_curves = ['CL1','GC1']\n",
    "curves = dict()\n",
    "for comdty in list_curves:\n",
    "    curves[comdty]= pd.read_excel(LOADFILE,sheet_name=f'curve {comdty}')"
   ]
  },
  {
   "cell_type": "code",
   "execution_count": null,
   "id": "8240ca6a",
   "metadata": {},
   "outputs": [],
   "source": [
    "curves[comdty].style.format({'price':'${:,.2f}', 'open interest':'{:,.0f}'})"
   ]
  },
  {
   "cell_type": "markdown",
   "id": "62896121",
   "metadata": {},
   "source": [
    "If we plot this chain against the delivery dates, we get the **futures curve**.\n",
    "\n",
    "The curves below show the marker sizes in proportion to the open interest of each contract."
   ]
  },
  {
   "cell_type": "code",
   "execution_count": null,
   "id": "22446912",
   "metadata": {},
   "outputs": [],
   "source": [
    "for comdty in list_curves:\n",
    "    \n",
    "    temp = curves[comdty].set_index('delivery date').sort_index()\n",
    "    msize = (temp['open interest']/temp['open interest'].max()) * 500\n",
    "    \n",
    "    fig, ax=plt.subplots()\n",
    "    temp['price'].plot(ax=ax,marker=None,title=comdty)\n",
    "    temp.reset_index().plot.scatter('delivery date','price',s=msize,ax=ax,title=comdty)\n",
    "    plt.show()"
   ]
  },
  {
   "cell_type": "markdown",
   "id": "a2a25c6c",
   "metadata": {},
   "source": [
    "## Backwardation and Contango\n",
    "\n",
    "### Relative to expectations\n",
    "\"Normal\" Backwardation\n",
    "* the futures price is **below** the expected future spot\n",
    "\n",
    "Contango\n",
    "* the futures price is **above** the expected future spot\n",
    "\n",
    "### Economics\n",
    "\n",
    "#### Normal? \n",
    "**\"Normal\"** backwardation refers to economists (Keynes) thinking it should be the \"normal\" situation to have the futures price below the expected future spot.\n",
    "\n",
    "The argument depends on the assumption that hedgers (suppliers) would tend to be short the futures contract while market-makers and speculators would be long. The risk aversion of the former group being higher than the latter group might lead to the futures price being pressured below the market forecast\n",
    "\n",
    "#### Relation to pricing equations above\n",
    "\n",
    "The simple pricing above implies...\n",
    "* Contango = **high** carry costs relative to convenience yield\n",
    "* Backwardation = **low** carry costs relative to convenience yield"
   ]
  },
  {
   "cell_type": "markdown",
   "id": "807e0697",
   "metadata": {},
   "source": [
    "### Descriptions of the futures curve\n",
    "\n",
    "Note that \n",
    "* there is not an objective \"expected future spot\". \n",
    "* thus, whether in backwardation or contango would depend on one's model of the forecasted spot price.\n",
    "\n",
    "In practice, these terms are often used with the assumption that **today's spot is the best prediction of the future spot**:\n",
    "\n",
    "$\\begin{align}\n",
    "P_t = \\boldsymbol{E}_t\\left[P_T\\right]\n",
    "\\end{align}$\n",
    "\n",
    "#### Common usage\n",
    "This leads to the common usage.\n",
    "\n",
    "Backwardation\n",
    "* the futures curve is **downward** sloping\n",
    "\n",
    "Contango\n",
    "* the futures curve is **upward** sloping\n",
    "\n",
    "This definition is simpler and can be directly measured. \n",
    "\n",
    "#### In the examples above\n",
    "* Oil is in backwardation\n",
    "* Gold is in contango"
   ]
  },
  {
   "cell_type": "markdown",
   "id": "4eadbcda",
   "metadata": {},
   "source": [
    "## Roll\n",
    "\n",
    "Trading futures positions involves **rolling** the position to new contracts.\n",
    "\n",
    "If the curve is in **contango** this rolling will require buying at a higher price\n",
    "* add capital to hold same number of contracts\n",
    "* keep capital flat, but in fewer contracts\n",
    "\n",
    "If the curve is in **backwardation** this rolling will mean buying at a lower price\n",
    "* reallocate some capital to hold same number of contracts\n",
    "* keep capital flat, but in more contracts\n",
    "\n",
    "The chart below shows price histories for various contracts on the chain, note that when one settles, a trader would have to roll up/down to another contract."
   ]
  },
  {
   "cell_type": "code",
   "execution_count": null,
   "id": "1b8c0aad",
   "metadata": {},
   "outputs": [],
   "source": [
    "ptitle = futures_ts['LAST_PRICE'].iloc[:,0].name[:2]\n",
    "futures_ts['LAST_PRICE'].iloc[:,0:4].plot(xlim=('2022-10','2023-07'),ylim=(65,90),title=f'Rolling Prices {ptitle}');"
   ]
  },
  {
   "cell_type": "code",
   "execution_count": null,
   "id": "7e2687f6",
   "metadata": {},
   "outputs": [],
   "source": [
    "ptitle = futures_ts['LAST_PRICE'].iloc[:,4].name[:2]\n",
    "futures_ts['LAST_PRICE'].iloc[:,4:].plot(xlim=('2023-04','2023-07'),ylim=(1900,2100),title=f'Rolling Prices {ptitle}');"
   ]
  },
  {
   "cell_type": "markdown",
   "id": "ff869aa9",
   "metadata": {},
   "source": [
    "## Continuous Contract\n",
    "\n",
    "Given that futures contracts mature and roll off, it can be a challenge to obtain a long history of their prices.\n",
    "\n",
    "This is similar to getting long timeseries of bond prices.\n",
    "\n",
    "### Generic indexes\n",
    "Like with bonds, the answer is to construct a generic index which is the compilation of many short-term instruments.\n",
    "\n",
    "With bonds, this is done by building so-called \"constant maturity\" series, which at any point in the past point might point to the bonds closest in maturity to the stated index.\n",
    "\n",
    "For futures, an index can be constructed by simply pointing to the active contract at any point in time.\n",
    "\n",
    "### Generic front and back\n",
    "\n",
    "The common notation is to denote the generic front contract with a \"1\" and the generic back contract with a \"2\".\n",
    "\n",
    "For example, for crude oil, (CL), we have\n",
    "* CL1\n",
    "* CL2\n",
    "\n",
    "The chart below shows these price series."
   ]
  },
  {
   "cell_type": "code",
   "execution_count": null,
   "id": "7d70115e",
   "metadata": {},
   "outputs": [],
   "source": [
    "data_comp[['CL1 Comdty','CL2 Comdty']].plot(xlim=('2022-01','2023-07'),ylim=(65,125));"
   ]
  },
  {
   "cell_type": "markdown",
   "id": "cb91c5ed",
   "metadata": {},
   "source": [
    "### Rolling the Continuous Series\n",
    "\n",
    "The complication with the continuous front and back futures series is that at the time of rolling, the price will jump simply due to the roll.\n",
    "\n",
    "In analyzing the series, it will seem that these jumps are returns, when they are actually just a rebasing of the contract.\n",
    "\n",
    "If a series tends to be in contango, this will make the returns seem artificially high.\n",
    "\n",
    "### Adjusting the Continuous Series\n",
    "\n",
    "To avoid these jumps in the series, it is common to see one of three adjustments made at each roll, going back through time, to keep the breaks continuous.\n",
    "* difference: adjust the level by an addititive factor\n",
    "* ratio: adjust the past series by a multiplicative factor \n",
    "* weighted average: roll between the front and back contracts over a window of $m$ days, taking a weighted average between the contracts.\n",
    "\n",
    "The effect of all three adjustments is to\n",
    "* eliminate jumps at roll dates.\n",
    "* report true historic prices for the most recent contract used in the continuous series\n",
    "* report an adjusted price for the earlier contracts used in the continuous series\n",
    "\n",
    "In these ways, it is similar to the adjustments to equity prices discussed in another note.\n",
    "\n",
    "#### So which adjustment to use?\n",
    "* difference: keeps the profit and loss true, which is useful if simulating a particular number of contracts\n",
    "* ratio: ensures valid return series, which is useful if simulating a particular investment size."
   ]
  },
  {
   "cell_type": "code",
   "execution_count": null,
   "id": "1cf30b10",
   "metadata": {},
   "outputs": [],
   "source": [
    "data_comp.plot();"
   ]
  },
  {
   "cell_type": "markdown",
   "id": "2b3ede8e",
   "metadata": {},
   "source": [
    "### Roll Rule\n",
    "There is also a decision to make regarding **when** to roll the contract in the continuous series. The most popular rules are\n",
    "* fixed date (often first day of the month)\n",
    "* at contract close\n",
    "* when the max open interest shifts"
   ]
  },
  {
   "cell_type": "markdown",
   "id": "d283b361",
   "metadata": {},
   "source": [
    "#### Careful with the roll method\n",
    "\n",
    "Using an improper roll method for historic analysis may greatly misrepresent the performance.\n",
    "\n",
    "Which of these is correct for understanding returns over time?"
   ]
  },
  {
   "cell_type": "code",
   "execution_count": null,
   "id": "cf15fb7f",
   "metadata": {},
   "outputs": [],
   "source": [
    "px = data_comp.copy()\n",
    "px[px<0] = np.nan\n",
    "px[px==np.inf] = np.nan\n",
    "rx_comp = px.pct_change()\n",
    "performanceMetrics(rx_comp,annualization=252).style.format('{:.1%}')"
   ]
  }
 ],
 "metadata": {
  "language_info": {
   "name": "python"
  }
 },
 "nbformat": 4,
 "nbformat_minor": 5
}
