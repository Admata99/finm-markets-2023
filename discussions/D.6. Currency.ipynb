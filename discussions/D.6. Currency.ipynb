{
 "cells": [
  {
   "cell_type": "markdown",
   "id": "24005abd",
   "metadata": {},
   "source": [
    "# D.6. Currency\n",
    "\n",
    "## Markets Foundations\n",
    "\n",
    "### UChicago Financial Mathematics\n",
    "\n",
    "#### September 2023\n",
    "\n",
    "* Mark Hendricks\n",
    "* hendricks@uchicago.edu"
   ]
  },
  {
   "cell_type": "code",
   "execution_count": null,
   "id": "8040e867",
   "metadata": {},
   "outputs": [],
   "source": [
    "import pandas as pd\n",
    "import numpy as np\n",
    "import datetime\n",
    "import warnings\n",
    "\n",
    "from sklearn.linear_model import LinearRegression\n",
    "from scipy.optimize import minimize\n",
    "\n",
    "import seaborn as sns\n",
    "import matplotlib.pyplot as plt\n",
    "%matplotlib inline\n",
    "plt.rcParams['figure.figsize'] = (12,6)\n",
    "plt.rcParams['font.size'] = 15\n",
    "plt.rcParams['legend.fontsize'] = 13\n",
    "\n",
    "import sys\n",
    "sys.path.insert(0, '../cmds')\n",
    "from treasury_cmds import *\n",
    "#from portfolio import *"
   ]
  },
  {
   "cell_type": "markdown",
   "id": "0b0e8578",
   "metadata": {},
   "source": [
    "$$\\newcommand{\\frn}{*}$$\n",
    "\n",
    "$$\\newcommand{\\RF}{R^{f,\\$}}$$\n",
    "$$\\newcommand{\\RFa}{R^{f,\\frn}}$$\n",
    "\n",
    "$$\\newcommand{\\rflog}{\\texttt{r}^{f,\\$}}$$\n",
    "$$\\newcommand{\\rfalog}{\\texttt{r}^{f,\\frn}}$$\n",
    "\n",
    "$$\\newcommand{\\Fcrncy}{F^{\\$}}$$\n",
    "$$\\newcommand{\\fcrncylog}{\\texttt{f}^{\\$}}$$\n",
    "\n",
    "$$\\newcommand{\\FX}{S}$$\n",
    "$$\\newcommand{\\fxlog}{\\texttt{s}}$$"
   ]
  },
  {
   "cell_type": "markdown",
   "id": "20ced3ca",
   "metadata": {},
   "source": [
    "## Currency"
   ]
  },
  {
   "cell_type": "markdown",
   "id": "0de908a5",
   "metadata": {},
   "source": [
    "Currency is traded on the **spot** market at the **exchange rate**.\n",
    "\n",
    "## Derivatives\n",
    "\n",
    "Currency derivatives include, (in descending order of size/importance)\n",
    "* forwards\n",
    "* swaps\n",
    "* futures\n",
    "* options\n",
    "\n",
    "A few notes on the sizes here...\n",
    "* Forward currency market is larger than interest-rate forwards!\n",
    "* Swaps market for currency is about 10% the size of interest-rate swaps.\n",
    "* Currency options are relatively small, yet still about 1/3 the size of equity options!\n",
    "\n",
    "### Notable Features\n",
    "* FX markets are smaller than rates markets, but still huge.\n",
    "* FX trades mostly in spot, forwards, and swaps\n",
    "* Relatively small amount in options or futures\n",
    "\n",
    "### References\n",
    "OTC Derivatives Size\n",
    "\n",
    "https://stats.bis.org/statx/srs/table/d5.1\n",
    "\n",
    "Futures Markets Size\n",
    "\n",
    "https://stats.bis.org/statx/srs/table/d1\n",
    "\n",
    "Trading Turnover\n",
    "\n",
    "https://stats.bis.org/statx/srs/table/d11.1"
   ]
  },
  {
   "cell_type": "markdown",
   "id": "52f6617d",
   "metadata": {},
   "source": [
    "## Data"
   ]
  },
  {
   "cell_type": "markdown",
   "id": "abf71e8e",
   "metadata": {},
   "source": [
    "`fx_carry_data.xlsx`.\n",
    "\n",
    "## Risk-free rates\n",
    "It reports the risk-free rates for various currencies.\n",
    "- Uses LIBOR, which is being phased out, but is still in-use and easy to get the data from the Fed site, **FRED**.\n",
    "\n",
    "Timing of the risk-free rate\n",
    "- The data is defined such that the March value of the risk-free rate corresponds to the rate beginning in March and ending in April.\n",
    "- In terms of the class notation, $r^{f,i}_{t,t+1}$ is reported at time $t$. (It is risk-free, so it is a rate from $t$ to $t+1$ but it is know at $t$.\n",
    "\n",
    "## Exchange rates\n",
    "Spot exchange rates."
   ]
  },
  {
   "cell_type": "code",
   "execution_count": null,
   "id": "640bdde0",
   "metadata": {},
   "outputs": [],
   "source": [
    "DATAPATH_FX = '../data/fx_carry_data.xlsx'\n",
    "SHEET = 'fx rates'\n",
    "\n",
    "fx = pd.read_excel(DATAPATH_FX, sheet_name=SHEET).set_index('DATE')\n",
    "fx.plot(title='Exchange Rates',ylabel='USD per foreign');"
   ]
  },
  {
   "cell_type": "code",
   "execution_count": null,
   "id": "fcda6a2d",
   "metadata": {},
   "outputs": [],
   "source": [
    "sns.heatmap(fx.diff().corr(),annot=True)\n",
    "plt.title('Correlation: FX rate (month-over-month differences)');"
   ]
  },
  {
   "cell_type": "code",
   "execution_count": null,
   "id": "c4535bb4",
   "metadata": {},
   "outputs": [],
   "source": [
    "SHEET = 'risk-free rates'\n",
    "\n",
    "rfraw = pd.read_excel(DATAPATH_FX,sheet_name=SHEET).set_index('DATE')\n",
    "rfraw.columns = [col.removesuffix('1M') for col in rfraw.columns]\n",
    "\n",
    "(rfraw * 12).plot(title='Risk-free rate');"
   ]
  },
  {
   "cell_type": "code",
   "execution_count": null,
   "id": "f8f2d41f",
   "metadata": {},
   "outputs": [],
   "source": [
    "sns.heatmap(rfraw.diff().corr(),annot=True)\n",
    "plt.title('Correlation: Interest rate (month-over-month differences)');"
   ]
  },
  {
   "cell_type": "markdown",
   "id": "4716e9fd",
   "metadata": {},
   "source": [
    "## Returns"
   ]
  },
  {
   "cell_type": "markdown",
   "id": "8868e1a9",
   "metadata": {},
   "source": [
    "### Notation\n",
    "\n",
    "* $S_t$ denotes the foreign exchange rate, expressed as USD per foreign currency\n",
    "* $\\RF_{t,t+1}$ denotes the risk-free factor on US dollars (USD).\n",
    "* $\\RFa_{t,t+1}$ denotes the risk-free factor on a particular foreign currency."
   ]
  },
  {
   "cell_type": "markdown",
   "id": "b3b11569",
   "metadata": {},
   "source": [
    "### Two components to returns\n",
    "\n",
    "Misconception that the return on currency is the percentage change in the exchange rate:\n",
    "$$\\frac{S_{t+1}}{S_t}$$\n",
    "\n",
    "The price of the currency is $S_t$ dollars.\n",
    "* In terms of USD, the payoff at time t + 1 of the Euro riskless asset is \n",
    "$$\\RFa_{t,t+1} S_{t+1}$$\n",
    "\n",
    "That is, \n",
    "* we capitalize any FX gains, \n",
    "* but we also earn the riskless return accumulated by the foreign currency.\n",
    "\n",
    "Thus, the USD return on holding Euros is given by,\n",
    "$$\\RFa_{t,t+1}\\frac{ S_{t+1}}{S_t}$$"
   ]
  },
  {
   "cell_type": "code",
   "execution_count": null,
   "id": "aff02db7",
   "metadata": {},
   "outputs": [],
   "source": [
    "USDRF = 'USD'\n",
    "\n",
    "rfusd = rfraw[[USDRF]]\n",
    "rf = rfraw.drop(columns=[USDRF])\n",
    "\n",
    "fxgrowth = (fx / fx.shift())\n",
    "rets = fxgrowth.mul(1+rf.values,axis=1) - 1\n",
    "rx = rets.sub(rfusd.values,axis=1)"
   ]
  },
  {
   "cell_type": "code",
   "execution_count": null,
   "id": "3c114afd",
   "metadata": {},
   "outputs": [],
   "source": [
    "rets.loc['2018-04-01':,:].mean()"
   ]
  },
  {
   "cell_type": "code",
   "execution_count": null,
   "id": "b50cb44b",
   "metadata": {},
   "outputs": [],
   "source": [
    "fig, ax = plt.subplots()\n",
    "(1+rets).cumprod().plot(ax=ax)\n",
    "(1+rfusd).cumprod().plot(ax=ax)\n",
    "plt.title('Cumulative Returns of FX')\n",
    "plt.ylabel('cumulative return')\n",
    "plt.show()"
   ]
  },
  {
   "cell_type": "markdown",
   "id": "e225258e",
   "metadata": {},
   "source": [
    "### Extra Statistics on Returns\n",
    "\n",
    "Main takeaway:\n",
    "* small mean return--only exciting if you use leverage\n",
    "* substantial volatility\n",
    "* large drawdowns (tail-events)"
   ]
  },
  {
   "cell_type": "markdown",
   "id": "d70b9405",
   "metadata": {},
   "source": [
    "## Decomposing the Returns\n",
    "\n",
    "Using logs, we can split out the two components of excess log returns"
   ]
  },
  {
   "cell_type": "markdown",
   "id": "4bfdca8a",
   "metadata": {},
   "source": [
    "### Logarithms\n",
    "The data is mostly analyzed in logs, as this simplifies equations later.\n",
    "* For monthly rates, logs vs levels won't make a big difference."
   ]
  },
  {
   "cell_type": "markdown",
   "id": "b95fa6cc",
   "metadata": {},
   "source": [
    "### Excess returns\n",
    "\n",
    "The (USD) return in excess of the (USD) risk-free rate is then\n",
    "\n",
    "$$\\tilde{r}^i_{t+1} \\equiv \\fxlog^i_{t+1} - \\fxlog^i_t + r^{f,i}_{t,t+1} - r^{f,\\$}_{t,t+1}$$\n",
    "\n",
    "### Two spreads\n",
    "For convenience, rewrite this as\n",
    "\n",
    "$$\\tilde{r}^i_{t+1} \\equiv \\left(\\fxlog^i_{t+1} - \\fxlog^i_t\\right) + (\\rfalog_{t,t+1} - \\rflog_{t,t+1})$$\n",
    "\n",
    "\n",
    "#### Data Consideration\n",
    "1. Build the spread in risk-free rates: \n",
    "\n",
    "$$\\rflog_{t,t+1} - \\rfalog_{t,t+1}$$.\n",
    "\n",
    "* Lag this variable, so that the March-to-April value is stamped as April.\n",
    "\n",
    "2. Build the FX growth rates: \n",
    "\n",
    "$$ \\fxlog^i_{t+1} - \\fxlog^i_t$$\n",
    "\n",
    "* These are already stamped as April for the March-to-April FX growth.\n",
    "\n",
    "Then the excess log return is simply the difference of the two objects."
   ]
  },
  {
   "cell_type": "code",
   "execution_count": null,
   "id": "603aad3d",
   "metadata": {},
   "outputs": [],
   "source": [
    "logFX = np.log(fx)\n",
    "logRFraw = np.log(rfraw+1)\n",
    "logRFusd = logRFraw[[USDRF]]\n",
    "logRF = logRFraw.drop(columns=[USDRF])\n",
    "\n",
    "logRFspread = -logRF.subtract(logRFusd.values,axis=0)\n",
    "logRFspread = logRFspread.shift(1)\n",
    "\n",
    "logFXgrowth = logFX.diff(axis=0)\n",
    "\n",
    "logRX = logFXgrowth - logRFspread.values"
   ]
  },
  {
   "cell_type": "code",
   "execution_count": null,
   "id": "f02a1f16",
   "metadata": {},
   "outputs": [],
   "source": [
    "logFXgrowth.plot(title='Log FX Growth', figsize=(10,5));"
   ]
  },
  {
   "cell_type": "code",
   "execution_count": null,
   "id": "509dd604",
   "metadata": {},
   "outputs": [],
   "source": [
    "(-logRFspread).plot(title='Log Interest Rate Spread (Other-USD)', figsize=(10,5));"
   ]
  },
  {
   "cell_type": "code",
   "execution_count": null,
   "id": "8ac9b852",
   "metadata": {},
   "outputs": [],
   "source": [
    "rx_components = logFXgrowth.mean().to_frame()\n",
    "rx_components.columns=['FX effect']\n",
    "rx_components['RF effect'] = -logRFspread.mean().values\n",
    "rx_components['Total'] = rx_components.sum(axis=1)\n",
    "rx_components *= 12\n",
    "rx_components.style.format('{:.2%}')"
   ]
  },
  {
   "cell_type": "markdown",
   "id": "07888953",
   "metadata": {},
   "source": [
    "***"
   ]
  },
  {
   "cell_type": "markdown",
   "id": "06bc065f",
   "metadata": {},
   "source": [
    "## Cryptocurrency"
   ]
  },
  {
   "cell_type": "markdown",
   "id": "e5aa24fb",
   "metadata": {},
   "source": [
    "## Crypto Data\n",
    "\n",
    "For a more thorough description of Crypto, see the references below.\n",
    "\n",
    "Here, we simply look at the data of the 4 largest cryptocurrencies."
   ]
  },
  {
   "cell_type": "code",
   "execution_count": null,
   "id": "20f7dc2b",
   "metadata": {},
   "outputs": [],
   "source": [
    "LOADFILE = '../data/fx_data.xlsx'\n",
    "crypto = pd.read_excel(LOADFILE,sheet_name='crypto').set_index('DATE')\n",
    "crypto"
   ]
  },
  {
   "cell_type": "code",
   "execution_count": null,
   "id": "9b504a91",
   "metadata": {},
   "outputs": [],
   "source": [
    "currency = pd.concat([fx,crypto],axis=1)\n",
    "\n",
    "sns.heatmap(currency.resample('M').last().pct_change().corr(),annot=True);\n",
    "plt.title('Correlation of DIFFERENCES of crytpocurrency to other exchange rates');"
   ]
  },
  {
   "cell_type": "code",
   "execution_count": null,
   "id": "988904c3",
   "metadata": {},
   "outputs": [],
   "source": [
    "fig, ax = plt.subplots(2,2,figsize=(10,10))\n",
    "for i, col in enumerate(crypto.columns):\n",
    "    crypto[col].plot(ax=ax[int(i/2),i%2], title=col)\n",
    "\n",
    "plt.tight_layout()\n",
    "plt.show()"
   ]
  },
  {
   "cell_type": "code",
   "execution_count": null,
   "id": "a1efa7db",
   "metadata": {},
   "outputs": [],
   "source": [
    "sns.heatmap(crypto.pct_change().corr(),annot=True);"
   ]
  },
  {
   "cell_type": "code",
   "execution_count": null,
   "id": "9ca6009b",
   "metadata": {},
   "outputs": [],
   "source": [
    "ANNUALIZE= np.sqrt(252)\n",
    "(currency.pct_change().std()*ANNUALIZE).plot.bar(title='Volatility of Exchange Rate Changes');"
   ]
  },
  {
   "cell_type": "markdown",
   "id": "a65c9760",
   "metadata": {},
   "source": [
    "## References\n",
    "\n",
    "\n",
    "#### Economics of Crytpo\n",
    "\n",
    "Recommend this textbook chapter (published freely)\n",
    "\n",
    "https://marginalrevolution.com/wp-content/uploads/2022/05/Cryptoeconomics-Modern-Principles.pdf\n",
    "\n",
    "#### Blockchain\n",
    "\n",
    "Highly recommend this video\n",
    "\n",
    "https://www.youtube.com/watch?v=bBC-nXj3Ng4\n",
    "\n",
    "\n",
    "#### Explore the blockchain\n",
    "https://www.blockchain.com/explorer\n",
    "\n",
    "#### Cryptographic security\n",
    "https://www.youtube.com/watch?v=S9JGmA5_unY"
   ]
  }
 ],
 "metadata": {
  "language_info": {
   "name": "python"
  }
 },
 "nbformat": 4,
 "nbformat_minor": 5
}
